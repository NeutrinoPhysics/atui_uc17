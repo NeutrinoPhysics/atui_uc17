{
 "cells": [
  {
   "cell_type": "markdown",
   "metadata": {},
   "source": [
    "(always be aware of your imports and <b><u><i>preserve namespaces</i></u></b>!!!)"
   ]
  },
  {
   "cell_type": "code",
   "execution_count": 1,
   "metadata": {
    "collapsed": true
   },
   "outputs": [],
   "source": [
    "import os\n",
    "import sys\n",
    "import time\n",
    "import numpy as np\n",
    "import scipy.ndimage as nd\n",
    "import matplotlib.pyplot as plt\n",
    "\n",
    "%matplotlib tk\n",
    "plt.ion()\n",
    "plt.rcParams[\"image.cmap\"] = \"gist_gray\""
   ]
  },
  {
   "cell_type": "markdown",
   "metadata": {},
   "source": [
    "---\n",
    "\n",
    "## Regression and the normal equation"
   ]
  },
  {
   "cell_type": "markdown",
   "metadata": {},
   "source": [
    "### Linear fit\n",
    "\n",
    "Here are two data sets:"
   ]
  },
  {
   "cell_type": "code",
   "execution_count": 2,
   "metadata": {
    "collapsed": true
   },
   "outputs": [],
   "source": [
    "A = 1.2\n",
    "B = 0.34\n",
    "\n",
    "x = np.linspace(-5.0 * np.pi, 5.0 * np.pi, 100, False)\n",
    "y0 = np.cos(x)\n",
    "y1 = A * y0 + B"
   ]
  },
  {
   "cell_type": "code",
   "execution_count": 3,
   "metadata": {
    "collapsed": true
   },
   "outputs": [],
   "source": [
    "fig0, ax0 = plt.subplots(num=0)\n",
    "lin0a, = ax0.plot(x, y0)\n",
    "lin0b, = ax0.plot(x, y1)\n",
    "fig0.canvas.draw()"
   ]
  },
  {
   "cell_type": "markdown",
   "metadata": {},
   "source": [
    "Our task is to figure out the amplitude ($A$) and offset ($B$) parameters from the data alone.  We are trying to solve the equation,\n",
    "\n",
    "$y_1 = A \\times y_0 + B$\n",
    "\n",
    "But even though it looks like this is one equation, it is actually 100,\n",
    "\n",
    "$y_1[0] = A \\times y_0[0] + B$<br>\n",
    "$y_1[1] = A \\times y_0[1] + B$<br>\n",
    "$y_1[2] = A \\times y_0[2] + B$<br>\n",
    "$.$<br>\n",
    "$.$<br>\n",
    "$.$<br>\n",
    "$y_1[99] = A \\times y_0[99] + B$<br>\n",
    "\n",
    "which can be written as\n",
    "\n",
    "$\\left(\\begin{array}{c}\n",
    "y_1[0] \\\\\n",
    "y_1[1] \\\\\n",
    "y_1[2] \\\\\n",
    ". \\\\\n",
    ". \\\\\n",
    ". \\\\\n",
    "y_1[99]\n",
    "\\end{array}\\right)\n",
    "=\n",
    "\\left(\\begin{array}{cc}\n",
    "y_0[0] & 1 \\\\\n",
    "y_0[1] & 1 \\\\\n",
    "y_0[2] & 1 \\\\\n",
    ". & . \\\\\n",
    ". & . \\\\\n",
    ". & . \\\\\n",
    "y_0[99] & 1\n",
    "\\end{array}\\right)\n",
    "\\times\n",
    "\\left(\\begin{array}{c}\n",
    "A \\\\\n",
    "B\n",
    "\\end{array}\\right)\n",
    "$\n",
    "\n",
    "or\n",
    "\n",
    "$\\vec{y}_1 = \\mathbf{P}\\vec{a}$\n",
    "\n",
    "where $\\vec{y}_1$ is still an array (but let's call it a vector now), $\\mathbf{P}$ is a \"matrix\", and $\\vec{a}$ is also a vector of coefficients (in our case amplitude and offset).  Equations that look like the one above are called the <b>Normal Equation</b>.\n",
    "\n",
    "You might think that you can just solve for $\\vec{a}$ by doing\n",
    "\n",
    "$\\vec{a} = \\frac{\\vec{y}_1}{\\mathbf{P}}$\n",
    "\n",
    "but $1/\\mathbf{P}$ has no real meaning since $\\mathbf{P}$ is a matrix.  To find the actual solution, we need to first define the transpose,\n",
    "\n",
    "$\\mathbf{P}^T = \n",
    "\\left(\\begin{array}{ccccccc}\n",
    "y_0[0] & y_0[1] & y_0[2] & . & . & . & y_0[99] \\\\\n",
    "1 & 1 & 1 & . & . & . & 1 \\\\\n",
    "\\end{array}\\right)$\n",
    "\n",
    "we solve the normal equation by first multiplying both sides by the transpose of $\\mathbf{P}$\n",
    "\n",
    "$(\\mathbf{P}^T\\vec{y}_1) = (\\mathbf{P}^T\\mathbf{P})\\vec{a}$\n",
    "\n",
    "and then multiplying by inverse of that matrix product:\n",
    "\n",
    "$(\\mathbf{P}^T\\mathbf{P})^{-1}(\\mathbf{P}^T\\vec{y}_1) = \\vec{a}$\n",
    "\n",
    "Note that the matrix inverse is not just replacing all elements of a matrix by 1 over its value, nor is matrix multiplication just doing elementwise multiplication.  It is a bit more complicated and beyond the present scope, but you can read about them <a href=\"http://en.wikipedia.org/wiki/Matrix_multiplication#Matrix_product_.28two_matrices.29\">here</a> and <a href=\"http://en.wikipedia.org/wiki/Invertible_matrix#Inversion_of_2.C3.972_matrices\">here</a> (note this last link is for $2 \\times 2$ matrices, which is our case in this example).\n",
    "\n",
    "Fortunately, python has a linear algebra model that will do these calculations for you."
   ]
  },
  {
   "cell_type": "code",
   "execution_count": 4,
   "metadata": {
    "collapsed": true
   },
   "outputs": [
    {
     "name": "stdout",
     "output_type": "stream",
     "text": [
      "P = \n",
      "[[ -1.00000000e+00   1.00000000e+00]\n",
      " [ -9.51056516e-01   1.00000000e+00]\n",
      " [ -8.09016994e-01   1.00000000e+00]\n",
      " [ -5.87785252e-01   1.00000000e+00]\n",
      " [ -3.09016994e-01   1.00000000e+00]\n",
      " [  5.51091060e-16   1.00000000e+00]\n",
      " [  3.09016994e-01   1.00000000e+00]\n",
      " [  5.87785252e-01   1.00000000e+00]\n",
      " [  8.09016994e-01   1.00000000e+00]\n",
      " [  9.51056516e-01   1.00000000e+00]\n",
      " [  1.00000000e+00   1.00000000e+00]\n",
      " [  9.51056516e-01   1.00000000e+00]\n",
      " [  8.09016994e-01   1.00000000e+00]\n",
      " [  5.87785252e-01   1.00000000e+00]\n",
      " [  3.09016994e-01   1.00000000e+00]\n",
      " [ -4.28626380e-16   1.00000000e+00]\n",
      " [ -3.09016994e-01   1.00000000e+00]\n",
      " [ -5.87785252e-01   1.00000000e+00]\n",
      " [ -8.09016994e-01   1.00000000e+00]\n",
      " [ -9.51056516e-01   1.00000000e+00]\n",
      " [ -1.00000000e+00   1.00000000e+00]\n",
      " [ -9.51056516e-01   1.00000000e+00]\n",
      " [ -8.09016994e-01   1.00000000e+00]\n",
      " [ -5.87785252e-01   1.00000000e+00]\n",
      " [ -3.09016994e-01   1.00000000e+00]\n",
      " [  3.06161700e-16   1.00000000e+00]\n",
      " [  3.09016994e-01   1.00000000e+00]\n",
      " [  5.87785252e-01   1.00000000e+00]\n",
      " [  8.09016994e-01   1.00000000e+00]\n",
      " [  9.51056516e-01   1.00000000e+00]\n",
      " [  1.00000000e+00   1.00000000e+00]\n",
      " [  9.51056516e-01   1.00000000e+00]\n",
      " [  8.09016994e-01   1.00000000e+00]\n",
      " [  5.87785252e-01   1.00000000e+00]\n",
      " [  3.09016994e-01   1.00000000e+00]\n",
      " [ -1.83697020e-16   1.00000000e+00]\n",
      " [ -3.09016994e-01   1.00000000e+00]\n",
      " [ -5.87785252e-01   1.00000000e+00]\n",
      " [ -8.09016994e-01   1.00000000e+00]\n",
      " [ -9.51056516e-01   1.00000000e+00]\n",
      " [ -1.00000000e+00   1.00000000e+00]\n",
      " [ -9.51056516e-01   1.00000000e+00]\n",
      " [ -8.09016994e-01   1.00000000e+00]\n",
      " [ -5.87785252e-01   1.00000000e+00]\n",
      " [ -3.09016994e-01   1.00000000e+00]\n",
      " [  6.12323400e-17   1.00000000e+00]\n",
      " [  3.09016994e-01   1.00000000e+00]\n",
      " [  5.87785252e-01   1.00000000e+00]\n",
      " [  8.09016994e-01   1.00000000e+00]\n",
      " [  9.51056516e-01   1.00000000e+00]\n",
      " [  1.00000000e+00   1.00000000e+00]\n",
      " [  9.51056516e-01   1.00000000e+00]\n",
      " [  8.09016994e-01   1.00000000e+00]\n",
      " [  5.87785252e-01   1.00000000e+00]\n",
      " [  3.09016994e-01   1.00000000e+00]\n",
      " [  1.83758918e-15   1.00000000e+00]\n",
      " [ -3.09016994e-01   1.00000000e+00]\n",
      " [ -5.87785252e-01   1.00000000e+00]\n",
      " [ -8.09016994e-01   1.00000000e+00]\n",
      " [ -9.51056516e-01   1.00000000e+00]\n",
      " [ -1.00000000e+00   1.00000000e+00]\n",
      " [ -9.51056516e-01   1.00000000e+00]\n",
      " [ -8.09016994e-01   1.00000000e+00]\n",
      " [ -5.87785252e-01   1.00000000e+00]\n",
      " [ -3.09016994e-01   1.00000000e+00]\n",
      " [  1.59265982e-15   1.00000000e+00]\n",
      " [  3.09016994e-01   1.00000000e+00]\n",
      " [  5.87785252e-01   1.00000000e+00]\n",
      " [  8.09016994e-01   1.00000000e+00]\n",
      " [  9.51056516e-01   1.00000000e+00]\n",
      " [  1.00000000e+00   1.00000000e+00]\n",
      " [  9.51056516e-01   1.00000000e+00]\n",
      " [  8.09016994e-01   1.00000000e+00]\n",
      " [  5.87785252e-01   1.00000000e+00]\n",
      " [  3.09016994e-01   1.00000000e+00]\n",
      " [  2.08251854e-15   1.00000000e+00]\n",
      " [ -3.09016994e-01   1.00000000e+00]\n",
      " [ -5.87785252e-01   1.00000000e+00]\n",
      " [ -8.09016994e-01   1.00000000e+00]\n",
      " [ -9.51056516e-01   1.00000000e+00]\n",
      " [ -1.00000000e+00   1.00000000e+00]\n",
      " [ -9.51056516e-01   1.00000000e+00]\n",
      " [ -8.09016994e-01   1.00000000e+00]\n",
      " [ -5.87785252e-01   1.00000000e+00]\n",
      " [ -3.09016994e-01   1.00000000e+00]\n",
      " [  1.34773046e-15   1.00000000e+00]\n",
      " [  3.09016994e-01   1.00000000e+00]\n",
      " [  5.87785252e-01   1.00000000e+00]\n",
      " [  8.09016994e-01   1.00000000e+00]\n",
      " [  9.51056516e-01   1.00000000e+00]\n",
      " [  1.00000000e+00   1.00000000e+00]\n",
      " [  9.51056516e-01   1.00000000e+00]\n",
      " [  8.09016994e-01   1.00000000e+00]\n",
      " [  5.87785252e-01   1.00000000e+00]\n",
      " [  3.09016994e-01   1.00000000e+00]\n",
      " [  2.32744790e-15   1.00000000e+00]\n",
      " [ -3.09016994e-01   1.00000000e+00]\n",
      " [ -5.87785252e-01   1.00000000e+00]\n",
      " [ -8.09016994e-01   1.00000000e+00]\n",
      " [ -9.51056516e-01   1.00000000e+00]]\n"
     ]
    }
   ],
   "source": [
    "PT = np.vstack([y0, np.ones(len(y0))])\n",
    "P  = PT.transpose()\n",
    "print(\"P = \\n{0}\".format(P))"
   ]
  },
  {
   "cell_type": "code",
   "execution_count": 5,
   "metadata": {
    "collapsed": false
   },
   "outputs": [
    {
     "name": "stdout",
     "output_type": "stream",
     "text": [
      "PTPinv = \n",
      "[[  2.00000000e-02  -7.77156117e-19]\n",
      " [ -7.77156117e-19   1.00000000e-02]]\n",
      "PTy1 = [ 60.  34.]\n"
     ]
    }
   ],
   "source": [
    "PTPinv = np.linalg.inv(np.dot(PT, P))\n",
    "PTy1 = np.dot(PT, y1)\n",
    "\n",
    "print(\"PTPinv = \\n{0}\\nPTy1 = {1}\".format(PTPinv, PTy1))"
   ]
  },
  {
   "cell_type": "markdown",
   "metadata": {},
   "source": [
    "And so finally:"
   ]
  },
  {
   "cell_type": "code",
   "execution_count": 6,
   "metadata": {
    "collapsed": false
   },
   "outputs": [
    {
     "name": "stdout",
     "output_type": "stream",
     "text": [
      "avec = [ 1.2   0.34]\n",
      "input:\n",
      "  A=1.2, B=0.34\n"
     ]
    }
   ],
   "source": [
    "avec = np.dot(PTPinv, PTy1)\n",
    "print(\"avec = {0}\\ninput:\\n  A={1}, B={2}\".format(avec, A, B))"
   ]
  },
  {
   "cell_type": "markdown",
   "metadata": {},
   "source": [
    "It turns out that the solution to the normal equation is equivalent to the classic \"least squares minimization\" solution."
   ]
  },
  {
   "cell_type": "code",
   "execution_count": 6,
   "metadata": {
    "collapsed": true
   },
   "outputs": [],
   "source": [
    "plt.close(0)"
   ]
  },
  {
   "cell_type": "markdown",
   "metadata": {},
   "source": [
    "### Multivariate regression"
   ]
  },
  {
   "cell_type": "markdown",
   "metadata": {},
   "source": [
    "Before we start applying this technique to images, let's look at an example that isn't so trivial.  First, let's add some noise and regress several \"template\" functions:"
   ]
  },
  {
   "cell_type": "code",
   "execution_count": 7,
   "metadata": {
    "collapsed": true
   },
   "outputs": [],
   "source": [
    "xx = np.linspace(0, 10, 100, False)\n",
    "\n",
    "func1 = np.exp(-xx**2 / (2.0 * 4.0**2))\n",
    "func2 = np.cos(xx)\n",
    "func3 = np.sqrt(xx / 20.)\n",
    "\n",
    "np.random.seed(712)\n",
    "noise = np.random.randn(len(xx))\n",
    "\n",
    "yy = -5 * func1 + 3 * func2 + 7 * func3 + 2.0 * noise\n",
    "\n",
    "plt.close(1)\n",
    "fig1, ax1 = plt.subplots(num=1)\n",
    "lin1a, = ax1.plot(xx, yy, 'o')\n",
    "fig1.canvas.draw()"
   ]
  },
  {
   "cell_type": "code",
   "execution_count": 8,
   "metadata": {
    "collapsed": false
   },
   "outputs": [
    {
     "name": "stdout",
     "output_type": "stream",
     "text": [
      "avec = [-5.11200294  2.68070448  7.1369897 ]\n"
     ]
    }
   ],
   "source": [
    "PT     = np.vstack([func1, func2, func3])\n",
    "P      = PT.transpose()\n",
    "PTPinv = np.linalg.inv(np.dot(PT, P))\n",
    "PTyy   = np.dot(PT, yy)\n",
    "avec   = np.dot(PTPinv, PTyy)\n",
    "\n",
    "print(\"avec = {0}\".format(avec))\n",
    "\n",
    "lin1b, = ax1.plot(xx, np.dot(P, avec), color=\"darkred\")\n",
    "fig1.canvas.draw()"
   ]
  },
  {
   "cell_type": "markdown",
   "metadata": {},
   "source": [
    "But now, what if we try the **completely** wrong model?"
   ]
  },
  {
   "cell_type": "code",
   "execution_count": 9,
   "metadata": {
    "collapsed": false
   },
   "outputs": [
    {
     "name": "stdout",
     "output_type": "stream",
     "text": [
      "avec = [ 0.01000133 -0.28422094  2.45504191 -6.13329667  0.54251651]\n"
     ]
    }
   ],
   "source": [
    "PT     = np.vstack([xx**4, xx**3, xx**2, xx, np.ones(len(xx))])\n",
    "P      = PT.transpose()\n",
    "PTPinv = np.linalg.inv(np.dot(PT, P))\n",
    "PTyy   = np.dot(PT, yy)\n",
    "avec   = np.dot(PTPinv, PTyy)\n",
    "\n",
    "print(\"avec = {0}\".format(avec))\n",
    "\n",
    "lin1c, = ax1.plot(xx,np.dot(P, avec), color=\"black\")\n",
    "lin1b.set_visible(False)\n",
    "fig1.canvas.draw()"
   ]
  },
  {
   "cell_type": "markdown",
   "metadata": {},
   "source": [
    "Pretty good for the wrong model!  So regressions (and models in general) can be powerful, but in order to evaluate a fit, you really have to know something about your errors."
   ]
  },
  {
   "cell_type": "code",
   "execution_count": 10,
   "metadata": {
    "collapsed": false
   },
   "outputs": [
    {
     "data": {
      "text/plain": [
       "[None, None]"
      ]
     },
     "execution_count": 10,
     "metadata": {},
     "output_type": "execute_result"
    }
   ],
   "source": [
    "[plt.close(i) for i in range(2)]"
   ]
  },
  {
   "cell_type": "markdown",
   "metadata": {},
   "source": [
    "---\n",
    "\n",
    "## Correlation and handwritten digits"
   ]
  },
  {
   "cell_type": "markdown",
   "metadata": {},
   "source": [
    "*This will be only the **most basic** technique of recognizing handwritten characters.  There are much more effective ways to solve this problem, but it is a good illustration of regressions and correlations...*"
   ]
  },
  {
   "cell_type": "markdown",
   "metadata": {},
   "source": [
    "First let's load the handwritten digits file:"
   ]
  },
  {
   "cell_type": "code",
   "execution_count": 11,
   "metadata": {
    "collapsed": false
   },
   "outputs": [],
   "source": [
    "img = nd.imread(\"images/digits.png\")\n",
    "nrow, ncol = img.shape[0:2]\n",
    "xs = 10.\n",
    "ys = xs * float(nrow) / float(ncol)\n",
    "\n",
    "plt.close(0)\n",
    "fig0, ax0 = plt.subplots(num=0, figsize=[xs, ys])\n",
    "fig0.subplots_adjust(0, 0, 1, 1)\n",
    "ax0.axis(\"off\")\n",
    "im0 = ax0.imshow(img)\n",
    "fig0.canvas.draw()"
   ]
  },
  {
   "cell_type": "markdown",
   "metadata": {},
   "source": [
    "We'd like to isolate the numbers from this image.  To do that, we use some reshaping and transposing trickery..."
   ]
  },
  {
   "cell_type": "code",
   "execution_count": 12,
   "metadata": {
    "collapsed": true
   },
   "outputs": [],
   "source": [
    "nums = img.reshape(50, 20, 100, 20) \\\n",
    "    .transpose(0, 2, 1, 3) \\\n",
    "    .reshape(5000, 20, 20)"
   ]
  },
  {
   "cell_type": "markdown",
   "metadata": {},
   "source": [
    "and we have each number isolated:"
   ]
  },
  {
   "cell_type": "code",
   "execution_count": 13,
   "metadata": {
    "collapsed": true
   },
   "outputs": [],
   "source": [
    "plt.close(1)\n",
    "fig1, ax1 = plt.subplots(num=1, figsize=[xs/2, xs/2])\n",
    "fig1.subplots_adjust(0, 0, 1, 1)\n",
    "ax1.axis(\"off\")\n",
    "im1 = ax1.imshow(nums[0])\n",
    "fig1.canvas.draw()"
   ]
  },
  {
   "cell_type": "code",
   "execution_count": 14,
   "metadata": {
    "collapsed": false
   },
   "outputs": [],
   "source": [
    "t0 = time.time()\n",
    "dt = 0.0\n",
    "np.random.seed(712)\n",
    "while dt < 20.:\n",
    "    ii = int(np.floor(len(nums) * np.random.rand()))\n",
    "    im1.set_data(nums[ii])\n",
    "    fig1.canvas.draw()\n",
    "    time.sleep(0.5)\n",
    "    dt = time.time() - t0"
   ]
  },
  {
   "cell_type": "markdown",
   "metadata": {},
   "source": [
    "We can look at the average for a given digit:"
   ]
  },
  {
   "cell_type": "code",
   "execution_count": 15,
   "metadata": {
    "collapsed": true
   },
   "outputs": [],
   "source": [
    "nums_avg = np.array([nums[i*500:(i + 1)*500].mean(0) for i \n",
    "                     in range(10)])\n",
    "\n",
    "for ii in range(10):\n",
    "    im1.set_data(nums_avg[ii])\n",
    "    fig1.canvas.draw()\n",
    "    time.sleep(2.0)"
   ]
  },
  {
   "cell_type": "markdown",
   "metadata": {},
   "source": [
    "Let's use these averages as \"templates\" for a regression against an individual sample:"
   ]
  },
  {
   "cell_type": "code",
   "execution_count": 36,
   "metadata": {
    "collapsed": false
   },
   "outputs": [
    {
     "name": "stdout",
     "output_type": "stream",
     "text": [
      "avec = [ 0.04  0.37 -0.04 -0.2  -0.11 -0.27 -0.08  0.05  1.36 -0.24]\n",
      "\n",
      "Therefore my guess is that this is an image of the number 8\n"
     ]
    }
   ],
   "source": [
    "index =4014\n",
    "samp  = nums[index]\n",
    "\n",
    "PT     = nums_avg.reshape(10, 400)\n",
    "P      = PT.transpose()\n",
    "PTPinv = np.linalg.inv(np.dot(PT, P))\n",
    "PTyy   = np.dot(PT, samp.flatten())\n",
    "avec   = np.dot(PTPinv, PTyy)\n",
    "\n",
    "print(\"avec = {0}\\n\".format(avec.round(2)))\n",
    "print(\"Therefore my guess is that this is an \" + \n",
    "      \"image of the number {0}\".format(avec.argmax()))"
   ]
  },
  {
   "cell_type": "code",
   "execution_count": 37,
   "metadata": {
    "collapsed": true
   },
   "outputs": [],
   "source": [
    "im1.set_data(samp)\n",
    "try:\n",
    "    lab\n",
    "except:\n",
    "    lab = ax1.text(0, 0, \"Guess: \", va=\"top\", fontsize=20, \n",
    "                   color=\"w\")\n",
    "lab.set_text('Guess: {0}'.format(avec.argmax()))\n",
    "fig1.canvas.draw()"
   ]
  },
  {
   "cell_type": "markdown",
   "metadata": {},
   "source": [
    "---"
   ]
  },
  {
   "cell_type": "code",
   "execution_count": 19,
   "metadata": {
    "collapsed": true
   },
   "outputs": [],
   "source": [
    "plt.close(\"all\")"
   ]
  },
  {
   "cell_type": "code",
   "execution_count": null,
   "metadata": {
    "collapsed": true
   },
   "outputs": [],
   "source": []
  }
 ],
 "metadata": {
  "anaconda-cloud": {},
  "kernelspec": {
   "display_name": "Python [Root]",
   "language": "python",
   "name": "Python [Root]"
  },
  "language_info": {
   "codemirror_mode": {
    "name": "ipython",
    "version": 2
   },
   "file_extension": ".py",
   "mimetype": "text/x-python",
   "name": "python",
   "nbconvert_exporter": "python",
   "pygments_lexer": "ipython2",
   "version": "2.7.13"
  }
 },
 "nbformat": 4,
 "nbformat_minor": 0
}
