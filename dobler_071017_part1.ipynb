{
 "cells": [
  {
   "cell_type": "markdown",
   "metadata": {
    "nbpresent": {
     "id": "86d23fdc-f99b-43a7-a944-84acc22dc0f7"
    }
   },
   "source": [
    "# Urban Computing || Greg Dobler || July 10, 2017\n",
    "-----------------------------------------------------------"
   ]
  },
  {
   "cell_type": "markdown",
   "metadata": {
    "nbpresent": {
     "id": "8dbf81ee-22d2-4d61-bbf9-9475f7de192c"
    }
   },
   "source": [
    "## Structure of this module\n",
    "Problems/topics/readings/videos will be suggested <br>\n",
    "One (potentially optional) homework will be given that will consist of submitting code <br>\n",
    "Useful reading: <i>Programming Computer Vision with Python</i>, Jan Erik Solem\n",
    "\n",
    "<br>\n",
    "\n",
    "## Delving further into scientific python\n",
    "NumPy -- arrays (2D and 3D), vectorized operations, basic functionality <br>\n",
    "SciPy -- functions, transformations, analysis <br>\n",
    "Matplotlib -- plotting, viewing, visualizations (static and interactive)\n",
    "\n",
    "<br>\n",
    "\n",
    "## Image processing and Computer Vision\n",
    "What are images from a data perspective? <br>\n",
    "How are images loaded displayed and handled? <br>\n",
    "What are some basic image processing taks? <br>\n",
    "What can we learn from images? <br><br>\n",
    "<b>Video is not particularly <i>special</i>, it's just a series of images to be analyzed together</b>\n",
    "\n",
    "----------------------\n",
    "\n",
    "## 1D\n",
    "Let's look at a \"time series\".  First some imports that will be useful:"
   ]
  },
  {
   "cell_type": "code",
   "execution_count": 1,
   "metadata": {
    "collapsed": true,
    "nbpresent": {
     "id": "4851d290-9fba-4580-b6be-d76644cc259f"
    }
   },
   "outputs": [],
   "source": [
    "import os\n",
    "import sys\n",
    "import time\n",
    "import numpy as np\n",
    "import scipy.ndimage as nd\n",
    "import matplotlib.pyplot as plt"
   ]
  },
  {
   "cell_type": "markdown",
   "metadata": {
    "nbpresent": {
     "id": "232c24d5-d270-4553-9b43-7d34ba331e0a"
    }
   },
   "source": [
    "Now we load in the one-dimensional data (which has been saved as a numpy array) and define a plotting function to view the data in a couple of different ways."
   ]
  },
  {
   "cell_type": "code",
   "execution_count": 2,
   "metadata": {
    "collapsed": true,
    "nbpresent": {
     "id": "c5e9aaaf-6ff4-49e9-923e-c27589214b00"
    }
   },
   "outputs": [],
   "source": [
    "data = np.load('output/ml_flat.npy')"
   ]
  },
  {
   "cell_type": "markdown",
   "metadata": {
    "nbpresent": {
     "id": "2a93e980-8be6-49f4-a59b-a4c142c659a0"
    }
   },
   "source": [
    "We'll be using matplotlib to visualize interactively (**not** in inline mode), so let's switching mpl's interactive mode to \"on\":"
   ]
  },
  {
   "cell_type": "code",
   "execution_count": 3,
   "metadata": {
    "collapsed": true,
    "nbpresent": {
     "id": "78fe04c4-1c7c-461b-881f-e16e1bb54cea"
    }
   },
   "outputs": [],
   "source": [
    "plt.ion()"
   ]
  },
  {
   "cell_type": "code",
   "execution_count": 4,
   "metadata": {
    "collapsed": true,
    "nbpresent": {
     "id": "7a8917bd-e4e3-4502-bc1a-731eccb44475"
    }
   },
   "outputs": [],
   "source": [
    "fig0 = plt.figure(0)\n",
    "def showit(fac, sep=100.):\n",
    "    fig0.clf()\n",
    "    ax0 = fig0.add_subplot(1, 1, 1)\n",
    "    lin0 = ax0.plot(range(data.size // fac), \n",
    "                    data.reshape(data.size // fac, fac) + \n",
    "                    sep * np.arange(fac), lw=0.05, color='k')\n",
    "    fig0.canvas.draw()"
   ]
  },
  {
   "cell_type": "code",
   "execution_count": 5,
   "metadata": {
    "collapsed": false,
    "nbpresent": {
     "id": "167574cf-1f91-419d-bc29-200c1707508d"
    }
   },
   "outputs": [],
   "source": [
    "showit(1)"
   ]
  },
  {
   "cell_type": "markdown",
   "metadata": {
    "collapsed": true,
    "nbpresent": {
     "id": "29fb4334-c147-43f5-b437-aa3e4731d54a"
    }
   },
   "source": [
    "This one-dimensional \"time series\" can be sliced and plotted stacked on top of itself.  For example, cut it in half and plot the two curves:"
   ]
  },
  {
   "cell_type": "code",
   "execution_count": 6,
   "metadata": {
    "collapsed": false,
    "nbpresent": {
     "id": "24d3d395-6621-430e-88cf-c19d8e7a852c"
    }
   },
   "outputs": [],
   "source": [
    "showit(2, 200)"
   ]
  },
  {
   "cell_type": "markdown",
   "metadata": {
    "collapsed": true,
    "nbpresent": {
     "id": "2617c750-de9a-4a15-b588-8733abd2b3a4"
    }
   },
   "source": [
    "If we progressively cut further, stacking each time..."
   ]
  },
  {
   "cell_type": "code",
   "execution_count": 7,
   "metadata": {
    "collapsed": true,
    "nbpresent": {
     "id": "5a25e84b-62d6-4097-a93b-b6a71ff75a6c"
    }
   },
   "outputs": [],
   "source": [
    "showit(4, 200)"
   ]
  },
  {
   "cell_type": "code",
   "execution_count": 8,
   "metadata": {
    "collapsed": true,
    "nbpresent": {
     "id": "730bd1d6-3994-4fcc-9ebc-c0fcf67850dc"
    }
   },
   "outputs": [],
   "source": [
    "showit(20, 200)"
   ]
  },
  {
   "cell_type": "code",
   "execution_count": 9,
   "metadata": {
    "collapsed": true,
    "nbpresent": {
     "id": "7174d640-efa2-4fd9-803d-8e39b26209e8"
    }
   },
   "outputs": [],
   "source": [
    "showit(954, 10)"
   ]
  },
  {
   "cell_type": "code",
   "execution_count": 10,
   "metadata": {
    "collapsed": true,
    "nbpresent": {
     "id": "b5eb0f38-7ff6-4d09-9d35-7b262608022f"
    }
   },
   "outputs": [],
   "source": [
    "fig1, ax1 = plt.subplots(num=1)\n",
    "im1 = ax1.imshow(data.reshape(data.size // 954, 954).T[::-1, :], \n",
    "                 cmap=\"gist_gray\")\n",
    "ax1.grid(0)\n",
    "fig1.canvas.draw()"
   ]
  },
  {
   "cell_type": "markdown",
   "metadata": {
    "nbpresent": {
     "id": "3a9e11d0-b1e1-4835-9ac0-a1bee7c9f9d2"
    }
   },
   "source": [
    "---\n",
    "\n",
    "## 1D vs 2D arrays\n",
    "\n",
    "Grayscale images are 2D <b>arrays</b> but in many cases can be thought of (and treated as) 1D arrays.<br>\n",
    "<br>\n",
    "Many data analysis tasks you've already seen can be handled exactly the same:<br>\n",
    ". correlations<br>\n",
    ". means and variances<br>\n",
    ". multivariate regressions<br>\n",
    "<br>\n",
    "others will be different:<br>\n",
    ". filters<br>\n",
    ". derivatives<br>\n",
    ". rotations<br>\n",
    "<br>\n",
    "But since this is a numpy array, things are easily <b><i>vectorized</i></b> and fast.  For example, let's look at derivatives.  First the 1D case:"
   ]
  },
  {
   "cell_type": "code",
   "execution_count": 11,
   "metadata": {
    "collapsed": true,
    "nbpresent": {
     "id": "8f25953d-f193-4ea3-a34b-1185e5eecf6a"
    }
   },
   "outputs": [],
   "source": [
    "xx = np.linspace(-20, 20, 1000)\n",
    "yy = np.cos(xx)"
   ]
  },
  {
   "cell_type": "code",
   "execution_count": 12,
   "metadata": {
    "collapsed": true,
    "nbpresent": {
     "id": "15121baa-a86d-47c6-9605-c258ab95fbe5"
    }
   },
   "outputs": [],
   "source": [
    "fig3, ax3 = plt.subplots(num=3)\n",
    "lin3a, = ax3.plot(xx, yy, \"darkred\")\n",
    "lin3b, = ax3.plot(xx[1:], (yy[1:] - yy[:-1]) / (xx[1] - xx[0]),\n",
    "                  \"dodgerblue\")\n",
    "fig3.canvas.draw()"
   ]
  },
  {
   "cell_type": "markdown",
   "metadata": {
    "nbpresent": {
     "id": "a252ae5b-1296-4f4d-ae56-40e0f852df72"
    }
   },
   "source": [
    "Which can be used to find edges,"
   ]
  },
  {
   "cell_type": "code",
   "execution_count": 13,
   "metadata": {
    "collapsed": true,
    "nbpresent": {
     "id": "1f4f7db3-b312-466a-92af-235f592f757f"
    }
   },
   "outputs": [],
   "source": [
    "xx  = np.linspace(-20, 20, 1000)\n",
    "yy  = 1.0 * (xx > 4.3)\n",
    "off = -0.1"
   ]
  },
  {
   "cell_type": "code",
   "execution_count": 14,
   "metadata": {
    "collapsed": false,
    "nbpresent": {
     "id": "df5b927a-aa34-4f2b-80fd-0702388cf821"
    }
   },
   "outputs": [],
   "source": [
    "lin3a.set_data(xx, yy)\n",
    "lin3b.set_data(xx[1:], (yy[1:] - yy[:-1]) / (xx[1] - xx[0])\n",
    "              + off)\n",
    "lin3b.set_linewidth(0.5)\n",
    "lin3b.set_visible(False)\n",
    "fig3.canvas.draw()"
   ]
  },
  {
   "cell_type": "code",
   "execution_count": 15,
   "metadata": {
    "collapsed": true,
    "nbpresent": {
     "id": "72f3f1b4-3b6a-4a23-9127-6c8fee6a5ae4"
    }
   },
   "outputs": [],
   "source": [
    "lin3b.set_visible(True)\n",
    "fig3.canvas.draw()"
   ]
  },
  {
   "cell_type": "markdown",
   "metadata": {
    "nbpresent": {
     "id": "1adada1f-1814-4172-a0a0-a51b30d5ab92"
    }
   },
   "source": [
    "The same thing is true in 2D, but now we can do all rows at once,"
   ]
  },
  {
   "cell_type": "code",
   "execution_count": 16,
   "metadata": {
    "collapsed": false,
    "nbpresent": {
     "id": "f7f71877-1d25-4132-8ca1-6d93fdc3fa91"
    }
   },
   "outputs": [
    {
     "name": "stdout",
     "output_type": "stream",
     "text": [
      "image shape is (954, 640)\n"
     ]
    }
   ],
   "source": [
    "ncol = 954\n",
    "img  = data.reshape(data.size // ncol, ncol).T[::-1, :]\n",
    "print(\"image shape is {0}\".format(img.shape))"
   ]
  },
  {
   "cell_type": "code",
   "execution_count": 17,
   "metadata": {
    "collapsed": true,
    "nbpresent": {
     "id": "7a61212c-a79f-4a48-a940-a63055303bc5"
    }
   },
   "outputs": [],
   "source": [
    "plt.rcParams[\"image.cmap\"] = \"gist_gray\"\n",
    "fig4, ax4 = plt.subplots(1, 2, num=4)\n",
    "[i.grid('off') for i in ax4]\n",
    "im4a = ax4[0].imshow(img)\n",
    "im4b = ax4[1].imshow(img[:, 5:] - img[:, :-5])\n",
    "fig4.canvas.draw()"
   ]
  },
  {
   "cell_type": "markdown",
   "metadata": {
    "nbpresent": {
     "id": "ecf2f768-7076-4988-bf14-f3bedb73809c"
    }
   },
   "source": [
    "... or we can do all columns at once"
   ]
  },
  {
   "cell_type": "code",
   "execution_count": 18,
   "metadata": {
    "collapsed": true,
    "nbpresent": {
     "id": "fec4b19b-1d5a-4c1e-b802-d97993ba3648"
    }
   },
   "outputs": [],
   "source": [
    "im4b.set_data(img[5:, :] - img[:-5, :])\n",
    "fig4.canvas.draw()"
   ]
  },
  {
   "cell_type": "markdown",
   "metadata": {
    "nbpresent": {
     "id": "42ddd100-88fc-4211-9831-5e7a62e9c366"
    }
   },
   "source": [
    "For completeness, let's do rows and columns (not simultaneously!) take the absolute value and add them together.  This is the simplest version of an edge detector,"
   ]
  },
  {
   "cell_type": "code",
   "execution_count": 19,
   "metadata": {
    "collapsed": true,
    "nbpresent": {
     "id": "59e38fdc-3589-48cb-bc4e-75434a54f330"
    }
   },
   "outputs": [],
   "source": [
    "edges_simp = np.abs(img[5:, 5:] - img[:-5, 5:]) + \\\n",
    "    np.abs(img[5:, 5:] - img[5:, :-5])"
   ]
  },
  {
   "cell_type": "code",
   "execution_count": 20,
   "metadata": {
    "collapsed": true,
    "nbpresent": {
     "id": "a668c5e1-098c-4cd9-96ba-de3bbab1c66f"
    }
   },
   "outputs": [],
   "source": [
    "im4b.set_data(edges_simp)\n",
    "fig4.canvas.draw()"
   ]
  },
  {
   "cell_type": "markdown",
   "metadata": {
    "nbpresent": {
     "id": "0f387f62-7e3e-42be-8fd9-f0d69af74b7f"
    }
   },
   "source": [
    "which is often combined with thresholding"
   ]
  },
  {
   "cell_type": "code",
   "execution_count": 22,
   "metadata": {
    "collapsed": false
   },
   "outputs": [
    {
     "data": {
      "text/plain": [
       "238.66666666666666"
      ]
     },
     "execution_count": 22,
     "metadata": {},
     "output_type": "execute_result"
    }
   ],
   "source": [
    "edges_simp.max()"
   ]
  },
  {
   "cell_type": "code",
   "execution_count": 21,
   "metadata": {
    "collapsed": true,
    "nbpresent": {
     "id": "d3f16567-f072-4e30-a070-fe3fd1c3e846"
    }
   },
   "outputs": [],
   "source": [
    "im4b.set_data(edges_simp > 60)\n",
    "im4b.set_clim(0, 1)\n",
    "fig4.canvas.draw()"
   ]
  },
  {
   "cell_type": "markdown",
   "metadata": {
    "nbpresent": {
     "id": "0d79782e-192e-4541-9d4d-0832ea545145"
    }
   },
   "source": [
    "You can see it's not doing great, it's missing some edges and there's a lot of noise.  We'll fix this later...\n",
    "\n",
    "---"
   ]
  },
  {
   "cell_type": "code",
   "execution_count": 22,
   "metadata": {
    "collapsed": true
   },
   "outputs": [],
   "source": [
    "plt.close(\"all\")"
   ]
  }
 ],
 "metadata": {
  "anaconda-cloud": {},
  "kernelspec": {
   "display_name": "Python [Root]",
   "language": "python",
   "name": "Python [Root]"
  },
  "language_info": {
   "codemirror_mode": {
    "name": "ipython",
    "version": 2
   },
   "file_extension": ".py",
   "mimetype": "text/x-python",
   "name": "python",
   "nbconvert_exporter": "python",
   "pygments_lexer": "ipython2",
   "version": "2.7.13"
  },
  "nbpresent": {
   "slides": {
    "0b5e7682-9d4e-4fa4-bf4a-546d1594dc1b": {
     "id": "0b5e7682-9d4e-4fa4-bf4a-546d1594dc1b",
     "prev": "b5a0ea04-75c0-4293-9c66-0f9d1184703d",
     "regions": {
      "6acbceff-3ccc-4f26-9155-589ccb807c25": {
       "attrs": {
        "height": 0.8,
        "width": 0.8,
        "x": 0.1,
        "y": 0.1
       },
       "content": {
        "cell": "ecf2f768-7076-4988-bf14-f3bedb73809c",
        "part": "whole"
       },
       "id": "6acbceff-3ccc-4f26-9155-589ccb807c25"
      }
     }
    },
    "252d6582-79eb-4ab1-9f19-bc0d68067c68": {
     "id": "252d6582-79eb-4ab1-9f19-bc0d68067c68",
     "prev": "6bfb6e91-89de-4220-bf27-f8669473b374",
     "regions": {
      "c1f7fc20-a7d4-44df-bdb7-1e926ee21cff": {
       "attrs": {
        "height": 0.8,
        "width": 0.8,
        "x": 0.1,
        "y": 0.1
       },
       "content": {
        "cell": "24d3d395-6621-430e-88cf-c19d8e7a852c",
        "part": "whole"
       },
       "id": "c1f7fc20-a7d4-44df-bdb7-1e926ee21cff"
      }
     }
    },
    "2be824a3-e279-4e2e-af65-16766550b2e2": {
     "id": "2be824a3-e279-4e2e-af65-16766550b2e2",
     "prev": "edb69de8-c77a-4f45-a7df-cf6ac0330457",
     "regions": {
      "be8e376d-a03b-45a6-91a7-41cf45afb3d8": {
       "attrs": {
        "height": 0.8,
        "width": 0.8,
        "x": 0.1,
        "y": 0.1
       },
       "content": {
        "cell": "167574cf-1f91-419d-bc29-200c1707508d",
        "part": "whole"
       },
       "id": "be8e376d-a03b-45a6-91a7-41cf45afb3d8"
      }
     }
    },
    "33350dda-0ebf-4e6a-879e-529e254b757c": {
     "id": "33350dda-0ebf-4e6a-879e-529e254b757c",
     "prev": "d6e46d5c-dfbc-4f76-bd2e-36506679ec6e",
     "regions": {
      "592cc2b3-7372-43a1-ad25-f3b3518e635e": {
       "attrs": {
        "height": 0.8,
        "width": 0.8,
        "x": 0.1,
        "y": 0.1
       },
       "content": {
        "cell": "c5e9aaaf-6ff4-49e9-923e-c27589214b00",
        "part": "whole"
       },
       "id": "592cc2b3-7372-43a1-ad25-f3b3518e635e"
      }
     }
    },
    "395db0f8-0b09-4853-a23f-30a7480daec9": {
     "id": "395db0f8-0b09-4853-a23f-30a7480daec9",
     "prev": "fbb9726d-2c4a-4849-8c1b-c0af18b4f31e",
     "regions": {
      "6c676364-7c25-49c0-8505-ecc957726c15": {
       "attrs": {
        "height": 0.8,
        "width": 0.8,
        "x": 0.1,
        "y": 0.1
       },
       "content": {
        "cell": "0f387f62-7e3e-42be-8fd9-f0d69af74b7f",
        "part": "whole"
       },
       "id": "6c676364-7c25-49c0-8505-ecc957726c15"
      }
     }
    },
    "3a1aaa19-1898-41af-9c82-4ea91887737f": {
     "id": "3a1aaa19-1898-41af-9c82-4ea91887737f",
     "prev": "4d8056ba-acd3-4892-b6a9-4aa595742e82",
     "regions": {
      "da409aa1-d3ce-4846-8108-a91ce3f83b32": {
       "attrs": {
        "height": 0.8,
        "width": 0.8,
        "x": 0.1,
        "y": 0.1
       },
       "content": {
        "cell": "df5b927a-aa34-4f2b-80fd-0702388cf821",
        "part": "whole"
       },
       "id": "da409aa1-d3ce-4846-8108-a91ce3f83b32"
      }
     }
    },
    "3a70372d-8c15-426e-9abb-feee0ce7def3": {
     "id": "3a70372d-8c15-426e-9abb-feee0ce7def3",
     "prev": "552b4a8d-65e9-4ae0-9d10-68d5de8a2011",
     "regions": {
      "984245be-807c-43cb-bb1e-4c390d49789a": {
       "attrs": {
        "height": 0.8,
        "width": 0.8,
        "x": 0.1,
        "y": 0.1
       },
       "content": {
        "cell": "b5eb0f38-7ff6-4d09-9d35-7b262608022f",
        "part": "whole"
       },
       "id": "984245be-807c-43cb-bb1e-4c390d49789a"
      }
     }
    },
    "412fc155-36f7-475f-9ff6-95ed3c958d9f": {
     "id": "412fc155-36f7-475f-9ff6-95ed3c958d9f",
     "prev": "4be600ea-76aa-409d-a7d2-95d6c9c967b4",
     "regions": {
      "525e6339-44e1-42f5-ad64-036525b96b82": {
       "attrs": {
        "height": 0.8,
        "width": 0.8,
        "x": 0.1,
        "y": 0.1
       },
       "content": {
        "cell": "730bd1d6-3994-4fcc-9ebc-c0fcf67850dc",
        "part": "whole"
       },
       "id": "525e6339-44e1-42f5-ad64-036525b96b82"
      }
     }
    },
    "42349cf5-7672-4c48-bfd5-9ee9c7a53801": {
     "id": "42349cf5-7672-4c48-bfd5-9ee9c7a53801",
     "prev": "91261e96-2c78-4dfd-889e-8eeecd0f8979",
     "regions": {
      "d70de48d-d678-4c83-b8be-50cabc3a125f": {
       "attrs": {
        "height": 0.8,
        "width": 0.8,
        "x": 0.1,
        "y": 0.1
       },
       "content": {
        "cell": "8f25953d-f193-4ea3-a34b-1185e5eecf6a",
        "part": "whole"
       },
       "id": "d70de48d-d678-4c83-b8be-50cabc3a125f"
      }
     }
    },
    "4be600ea-76aa-409d-a7d2-95d6c9c967b4": {
     "id": "4be600ea-76aa-409d-a7d2-95d6c9c967b4",
     "prev": "e0faeaa7-b417-467e-927c-a2b643bb01fa",
     "regions": {
      "914c11bd-3d5f-4f93-bbd0-60c1ede742ba": {
       "attrs": {
        "height": 0.8,
        "width": 0.8,
        "x": 0.1,
        "y": 0.1
       },
       "content": {
        "cell": "5a25e84b-62d6-4097-a93b-b6a71ff75a6c",
        "part": "whole"
       },
       "id": "914c11bd-3d5f-4f93-bbd0-60c1ede742ba"
      }
     }
    },
    "4d8056ba-acd3-4892-b6a9-4aa595742e82": {
     "id": "4d8056ba-acd3-4892-b6a9-4aa595742e82",
     "prev": "f5765750-ed4c-48bb-8bf7-12c8011be138",
     "regions": {
      "75bb3b00-dbff-4cde-9adb-dc64a456c8cf": {
       "attrs": {
        "height": 0.8,
        "width": 0.8,
        "x": 0.1,
        "y": 0.1
       },
       "content": {
        "cell": "1f4f7db3-b312-466a-92af-235f592f757f",
        "part": "whole"
       },
       "id": "75bb3b00-dbff-4cde-9adb-dc64a456c8cf"
      }
     }
    },
    "552b4a8d-65e9-4ae0-9d10-68d5de8a2011": {
     "id": "552b4a8d-65e9-4ae0-9d10-68d5de8a2011",
     "prev": "412fc155-36f7-475f-9ff6-95ed3c958d9f",
     "regions": {
      "a52dd4ab-0cd5-4ca5-bc6d-0e4922ecf854": {
       "attrs": {
        "height": 0.8,
        "width": 0.8,
        "x": 0.1,
        "y": 0.1
       },
       "content": {
        "cell": "7174d640-efa2-4fd9-803d-8e39b26209e8",
        "part": "whole"
       },
       "id": "a52dd4ab-0cd5-4ca5-bc6d-0e4922ecf854"
      }
     }
    },
    "591618a9-1320-42c3-b924-b54698cc02c3": {
     "id": "591618a9-1320-42c3-b924-b54698cc02c3",
     "prev": "3a1aaa19-1898-41af-9c82-4ea91887737f",
     "regions": {
      "60008e01-21ea-4ee4-bdc8-fc361905ebb7": {
       "attrs": {
        "height": 0.8,
        "width": 0.8,
        "x": 0.1,
        "y": 0.1
       },
       "content": {
        "cell": "72f3f1b4-3b6a-4a23-9127-6c8fee6a5ae4",
        "part": "whole"
       },
       "id": "60008e01-21ea-4ee4-bdc8-fc361905ebb7"
      }
     }
    },
    "5a390c99-3295-47f4-a5af-de2cb2e3292f": {
     "id": "5a390c99-3295-47f4-a5af-de2cb2e3292f",
     "prev": "917267e9-8c4a-4f6a-8990-aab534ce3b8d",
     "regions": {
      "f821cc15-5076-4fdb-8aff-e5b21153d6c5": {
       "attrs": {
        "height": 0.8,
        "width": 0.8,
        "x": 0.1,
        "y": 0.1
       },
       "content": {
        "cell": "4851d290-9fba-4580-b6be-d76644cc259f",
        "part": "whole"
       },
       "id": "f821cc15-5076-4fdb-8aff-e5b21153d6c5"
      }
     }
    },
    "6bfb6e91-89de-4220-bf27-f8669473b374": {
     "id": "6bfb6e91-89de-4220-bf27-f8669473b374",
     "prev": "2be824a3-e279-4e2e-af65-16766550b2e2",
     "regions": {
      "f69496c5-536b-4ee9-af83-d4c997ac9ee4": {
       "attrs": {
        "height": 0.8,
        "width": 0.8,
        "x": 0.1,
        "y": 0.1
       },
       "content": {
        "cell": "29fb4334-c147-43f5-b437-aa3e4731d54a",
        "part": "whole"
       },
       "id": "f69496c5-536b-4ee9-af83-d4c997ac9ee4"
      }
     }
    },
    "733ae0bd-d33a-422a-9a6e-1b5f043d3cca": {
     "id": "733ae0bd-d33a-422a-9a6e-1b5f043d3cca",
     "prev": "8651ba2f-e480-46a9-acde-33ac8bc84f13",
     "regions": {
      "fee2d7c2-14cf-4775-9116-da7b5264ce1f": {
       "attrs": {
        "height": 0.8,
        "width": 0.8,
        "x": 0.1,
        "y": 0.1
       },
       "content": {
        "cell": "f7f71877-1d25-4132-8ca1-6d93fdc3fa91",
        "part": "whole"
       },
       "id": "fee2d7c2-14cf-4775-9116-da7b5264ce1f"
      }
     }
    },
    "7f6d98e9-f993-4331-9ca9-be1aa19a1660": {
     "id": "7f6d98e9-f993-4331-9ca9-be1aa19a1660",
     "prev": "88874697-b33b-4f76-b891-22a26ea08a19",
     "regions": {
      "de655b54-f8cc-4773-b164-2c5d5d21a3ea": {
       "attrs": {
        "height": 0.8,
        "width": 0.8,
        "x": 0.1,
        "y": 0.1
       },
       "content": {
        "cell": "42ddd100-88fc-4211-9831-5e7a62e9c366",
        "part": "whole"
       },
       "id": "de655b54-f8cc-4773-b164-2c5d5d21a3ea"
      }
     }
    },
    "8651ba2f-e480-46a9-acde-33ac8bc84f13": {
     "id": "8651ba2f-e480-46a9-acde-33ac8bc84f13",
     "prev": "591618a9-1320-42c3-b924-b54698cc02c3",
     "regions": {
      "e32cae27-ee1f-4cef-b25f-a2b6db6057f1": {
       "attrs": {
        "height": 0.8,
        "width": 0.8,
        "x": 0.1,
        "y": 0.1
       },
       "content": {
        "cell": "1adada1f-1814-4172-a0a0-a51b30d5ab92",
        "part": "whole"
       },
       "id": "e32cae27-ee1f-4cef-b25f-a2b6db6057f1"
      }
     }
    },
    "88874697-b33b-4f76-b891-22a26ea08a19": {
     "id": "88874697-b33b-4f76-b891-22a26ea08a19",
     "prev": "0b5e7682-9d4e-4fa4-bf4a-546d1594dc1b",
     "regions": {
      "c9e830c9-7008-4dcc-81a5-afbf22946a6d": {
       "attrs": {
        "height": 0.8,
        "width": 0.8,
        "x": 0.1,
        "y": 0.1
       },
       "content": {
        "cell": "fec4b19b-1d5a-4c1e-b802-d97993ba3648",
        "part": "whole"
       },
       "id": "c9e830c9-7008-4dcc-81a5-afbf22946a6d"
      }
     }
    },
    "905d250c-b5c8-4b53-8c0e-6b8407abd650": {
     "id": "905d250c-b5c8-4b53-8c0e-6b8407abd650",
     "prev": "d068e1c4-3e5b-4220-a352-8c076f652fc2",
     "regions": {
      "acb2ef35-5225-485d-9037-8229279aaf03": {
       "attrs": {
        "height": 0.8,
        "width": 0.8,
        "x": 0.1,
        "y": 0.1
       },
       "content": {
        "cell": "78fe04c4-1c7c-461b-881f-e16e1bb54cea",
        "part": "whole"
       },
       "id": "acb2ef35-5225-485d-9037-8229279aaf03"
      }
     }
    },
    "91261e96-2c78-4dfd-889e-8eeecd0f8979": {
     "id": "91261e96-2c78-4dfd-889e-8eeecd0f8979",
     "prev": "3a70372d-8c15-426e-9abb-feee0ce7def3",
     "regions": {
      "2931a790-290d-4489-a46e-420823c8819e": {
       "attrs": {
        "height": 0.8,
        "width": 0.8,
        "x": 0.1,
        "y": 0.1
       },
       "content": {
        "cell": "3a9e11d0-b1e1-4835-9ac0-a1bee7c9f9d2",
        "part": "whole"
       },
       "id": "2931a790-290d-4489-a46e-420823c8819e"
      }
     }
    },
    "917267e9-8c4a-4f6a-8990-aab534ce3b8d": {
     "id": "917267e9-8c4a-4f6a-8990-aab534ce3b8d",
     "prev": "b0f9514e-8c8a-4e94-81cc-4d3d4fcc5495",
     "regions": {
      "a04022b8-37e6-4b38-8d2a-3a7b7b859c97": {
       "attrs": {
        "height": 0.8,
        "width": 0.8,
        "x": 0.1,
        "y": 0.1
       },
       "content": {
        "cell": "8dbf81ee-22d2-4d61-bbf9-9475f7de192c",
        "part": "whole"
       },
       "id": "a04022b8-37e6-4b38-8d2a-3a7b7b859c97"
      }
     }
    },
    "9b5f0016-6ce6-4efc-9d6a-2292867d84f8": {
     "id": "9b5f0016-6ce6-4efc-9d6a-2292867d84f8",
     "prev": "42349cf5-7672-4c48-bfd5-9ee9c7a53801",
     "regions": {
      "41d3a3cc-b402-47b5-a22f-cce3df8eb498": {
       "attrs": {
        "height": 0.8,
        "width": 0.8,
        "x": 0.1,
        "y": 0.1
       },
       "content": {
        "cell": "15121baa-a86d-47c6-9605-c258ab95fbe5",
        "part": "whole"
       },
       "id": "41d3a3cc-b402-47b5-a22f-cce3df8eb498"
      }
     }
    },
    "a150b720-34b9-4205-8801-fa95d8cd6ee8": {
     "id": "a150b720-34b9-4205-8801-fa95d8cd6ee8",
     "prev": "395db0f8-0b09-4853-a23f-30a7480daec9",
     "regions": {
      "29a22e16-27b1-4a5e-8b9c-e639ff7234c7": {
       "attrs": {
        "height": 0.8,
        "width": 0.8,
        "x": 0.1,
        "y": 0.1
       },
       "content": {
        "cell": "d3f16567-f072-4e30-a070-fe3fd1c3e846",
        "part": "whole"
       },
       "id": "29a22e16-27b1-4a5e-8b9c-e639ff7234c7"
      }
     }
    },
    "b0f9514e-8c8a-4e94-81cc-4d3d4fcc5495": {
     "id": "b0f9514e-8c8a-4e94-81cc-4d3d4fcc5495",
     "prev": null,
     "regions": {
      "e5cfcd2e-f8bb-4d0b-9f2c-88158e6818a7": {
       "attrs": {
        "height": 0.8,
        "width": 0.8,
        "x": 0.1,
        "y": 0.1
       },
       "content": {
        "cell": "86d23fdc-f99b-43a7-a944-84acc22dc0f7",
        "part": "whole"
       },
       "id": "e5cfcd2e-f8bb-4d0b-9f2c-88158e6818a7"
      }
     }
    },
    "b5a0ea04-75c0-4293-9c66-0f9d1184703d": {
     "id": "b5a0ea04-75c0-4293-9c66-0f9d1184703d",
     "prev": "733ae0bd-d33a-422a-9a6e-1b5f043d3cca",
     "regions": {
      "47b3eff2-1924-455d-a99a-2f0ded6b5586": {
       "attrs": {
        "height": 0.8,
        "width": 0.8,
        "x": 0.1,
        "y": 0.1
       },
       "content": {
        "cell": "7a61212c-a79f-4a48-a940-a63055303bc5",
        "part": "whole"
       },
       "id": "47b3eff2-1924-455d-a99a-2f0ded6b5586"
      }
     }
    },
    "d068e1c4-3e5b-4220-a352-8c076f652fc2": {
     "id": "d068e1c4-3e5b-4220-a352-8c076f652fc2",
     "prev": "33350dda-0ebf-4e6a-879e-529e254b757c",
     "regions": {
      "8f9450b1-808d-4023-a5f2-ce16ea4957e3": {
       "attrs": {
        "height": 0.8,
        "width": 0.8,
        "x": 0.1,
        "y": 0.1
       },
       "content": {
        "cell": "2a93e980-8be6-49f4-a59b-a4c142c659a0",
        "part": "whole"
       },
       "id": "8f9450b1-808d-4023-a5f2-ce16ea4957e3"
      }
     }
    },
    "d62411a6-032d-448d-975c-f52b7c2e3237": {
     "id": "d62411a6-032d-448d-975c-f52b7c2e3237",
     "prev": "7f6d98e9-f993-4331-9ca9-be1aa19a1660",
     "regions": {
      "5810fa99-bced-4806-898c-75223179818a": {
       "attrs": {
        "height": 0.8,
        "width": 0.8,
        "x": 0.1,
        "y": 0.1
       },
       "content": {
        "cell": "59e38fdc-3589-48cb-bc4e-75434a54f330",
        "part": "whole"
       },
       "id": "5810fa99-bced-4806-898c-75223179818a"
      }
     }
    },
    "d6e46d5c-dfbc-4f76-bd2e-36506679ec6e": {
     "id": "d6e46d5c-dfbc-4f76-bd2e-36506679ec6e",
     "prev": "5a390c99-3295-47f4-a5af-de2cb2e3292f",
     "regions": {
      "187cc82b-34d0-429d-83bd-959ccd907e5b": {
       "attrs": {
        "height": 0.8,
        "width": 0.8,
        "x": 0.1,
        "y": 0.1
       },
       "content": {
        "cell": "232c24d5-d270-4553-9b43-7d34ba331e0a",
        "part": "whole"
       },
       "id": "187cc82b-34d0-429d-83bd-959ccd907e5b"
      }
     }
    },
    "dac7b2ec-3392-4d46-9622-7f9b53987bed": {
     "id": "dac7b2ec-3392-4d46-9622-7f9b53987bed",
     "prev": "a150b720-34b9-4205-8801-fa95d8cd6ee8",
     "regions": {
      "353dfd8a-f380-4b0a-9fec-955ad5d62cf8": {
       "attrs": {
        "height": 0.8,
        "width": 0.8,
        "x": 0.1,
        "y": 0.1
       },
       "content": {
        "cell": "0d79782e-192e-4541-9d4d-0832ea545145",
        "part": "whole"
       },
       "id": "353dfd8a-f380-4b0a-9fec-955ad5d62cf8"
      }
     }
    },
    "e0faeaa7-b417-467e-927c-a2b643bb01fa": {
     "id": "e0faeaa7-b417-467e-927c-a2b643bb01fa",
     "prev": "252d6582-79eb-4ab1-9f19-bc0d68067c68",
     "regions": {
      "672552bb-c9da-4e04-a224-41a6739877fa": {
       "attrs": {
        "height": 0.8,
        "width": 0.8,
        "x": 0.1,
        "y": 0.1
       },
       "content": {
        "cell": "2617c750-de9a-4a15-b588-8733abd2b3a4",
        "part": "whole"
       },
       "id": "672552bb-c9da-4e04-a224-41a6739877fa"
      }
     }
    },
    "edb69de8-c77a-4f45-a7df-cf6ac0330457": {
     "id": "edb69de8-c77a-4f45-a7df-cf6ac0330457",
     "prev": "905d250c-b5c8-4b53-8c0e-6b8407abd650",
     "regions": {
      "d60c1dc8-aca5-4657-8807-6cf6c223d35c": {
       "attrs": {
        "height": 0.8,
        "width": 0.8,
        "x": 0.1,
        "y": 0.1
       },
       "content": {
        "cell": "7a8917bd-e4e3-4502-bc1a-731eccb44475",
        "part": "whole"
       },
       "id": "d60c1dc8-aca5-4657-8807-6cf6c223d35c"
      }
     }
    },
    "f5765750-ed4c-48bb-8bf7-12c8011be138": {
     "id": "f5765750-ed4c-48bb-8bf7-12c8011be138",
     "prev": "9b5f0016-6ce6-4efc-9d6a-2292867d84f8",
     "regions": {
      "7a2b897a-979a-4deb-965f-aed3e295007f": {
       "attrs": {
        "height": 0.8,
        "width": 0.8,
        "x": 0.1,
        "y": 0.1
       },
       "content": {
        "cell": "a252ae5b-1296-4f4d-ae56-40e0f852df72",
        "part": "whole"
       },
       "id": "7a2b897a-979a-4deb-965f-aed3e295007f"
      }
     }
    },
    "fbb9726d-2c4a-4849-8c1b-c0af18b4f31e": {
     "id": "fbb9726d-2c4a-4849-8c1b-c0af18b4f31e",
     "prev": "d62411a6-032d-448d-975c-f52b7c2e3237",
     "regions": {
      "747d4fe7-cd6e-41fa-9c27-4e8c12d61728": {
       "attrs": {
        "height": 0.8,
        "width": 0.8,
        "x": 0.1,
        "y": 0.1
       },
       "content": {
        "cell": "a668c5e1-098c-4cd9-96ba-de3bbab1c66f",
        "part": "whole"
       },
       "id": "747d4fe7-cd6e-41fa-9c27-4e8c12d61728"
      }
     }
    }
   },
   "themes": {}
  }
 },
 "nbformat": 4,
 "nbformat_minor": 0
}
