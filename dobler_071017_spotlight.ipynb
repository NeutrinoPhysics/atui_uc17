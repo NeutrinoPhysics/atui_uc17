{
 "cells": [
  {
   "cell_type": "markdown",
   "metadata": {},
   "source": [
    "## Spotlight widget\n",
    "\n",
    "---"
   ]
  },
  {
   "cell_type": "code",
   "execution_count": 1,
   "metadata": {
    "collapsed": true
   },
   "outputs": [],
   "source": [
    "import os\n",
    "import numpy as np\n",
    "import scipy.ndimage as nd\n",
    "import matplotlib.pyplot as plt\n",
    "\n",
    "plt.ion() # set interactive matplotlib\n",
    "\n",
    "# -- read in an image with scipy.ndimage\n",
    "dpath  = \"images\"\n",
    "fname  = \"city_image.jpg\"\n",
    "infile = os.path.join(dpath, fname)\n",
    "img    = nd.imread(infile)"
   ]
  },
  {
   "cell_type": "code",
   "execution_count": 2,
   "metadata": {
    "collapsed": true
   },
   "outputs": [],
   "source": [
    "# -- display it using matplotlib\n",
    "ysize = 3.\n",
    "xsize = ysize * float(img.shape[1]) / float(img.shape[0])\n",
    "\n",
    "fig_sp, ax_sp = plt.subplots(num=0, figsize=[xsize, ysize])\n",
    "fig_sp.subplots_adjust(0, 0, 1, 1)\n",
    "ax_sp.axis(\"off\")\n",
    "im_sp = ax_sp.imshow(img)\n",
    "fig_sp.canvas.draw()"
   ]
  },
  {
   "cell_type": "code",
   "execution_count": 3,
   "metadata": {
    "collapsed": false
   },
   "outputs": [],
   "source": [
    "# -- mask the whole image so it is all black\n",
    "nrow, ncol = img.shape[:2]\n",
    "npix = nrow * ncol\n",
    "rind = np.arange(npix).reshape(nrow, ncol) // ncol\n",
    "cind = np.arange(npix).reshape(nrow, ncol) % ncol\n",
    "mask = np.zeros(img.shape, dtype=np.uint8)\n",
    "\n",
    "im_sp.set_data(img * mask)\n",
    "fig_sp.canvas.draw()"
   ]
  },
  {
   "cell_type": "code",
   "execution_count": 4,
   "metadata": {
    "collapsed": false
   },
   "outputs": [
    {
     "name": "stderr",
     "output_type": "stream",
     "text": [
      "/Users/gdobler/anaconda/lib/python2.7/site-packages/matplotlib/backend_bases.py:2445: MatplotlibDeprecationWarning: Using default event loop until function specific to this GUI is implemented\n",
      "  warnings.warn(str, mplDeprecation)\n"
     ]
    }
   ],
   "source": [
    "# -- grab a point off of the image using ginput\n",
    "cpos, rpos = [int(round(i)) for i in fig_sp.ginput()[0]]"
   ]
  },
  {
   "cell_type": "code",
   "execution_count": 5,
   "metadata": {
    "collapsed": true
   },
   "outputs": [],
   "source": [
    "# -- set the mask pixels within some aperature to 1\n",
    "rad  = 100\n",
    "dist = np.sqrt((rind - rpos)**2 + (cind - cpos)**2)\n",
    "mask[dist <= rad] = [1, 1, 1]"
   ]
  },
  {
   "cell_type": "code",
   "execution_count": 6,
   "metadata": {
    "collapsed": true
   },
   "outputs": [],
   "source": [
    "# -- redisplay the masked image\n",
    "im_sp.set_data(img * mask)\n",
    "fig_sp.canvas.draw()"
   ]
  },
  {
   "cell_type": "code",
   "execution_count": 7,
   "metadata": {
    "collapsed": false
   },
   "outputs": [],
   "source": [
    "# -- loop through clicks\n",
    "rflag = True\n",
    "while rflag:\n",
    "    try:\n",
    "        cpos, rpos = [int(round(i)) for i in fig_sp.ginput()[0]]\n",
    "        dist = np.sqrt((rind - rpos)**2 + (cind - cpos)**2)\n",
    "        mask[dist <= rad] = [1, 1, 1]\n",
    "        im_sp.set_data(img * mask)\n",
    "        fig_sp.canvas.draw()\n",
    "    except:\n",
    "        rflag = False"
   ]
  },
  {
   "cell_type": "code",
   "execution_count": 8,
   "metadata": {
    "collapsed": true
   },
   "outputs": [],
   "source": [
    "plt.close(\"all\")"
   ]
  },
  {
   "cell_type": "code",
   "execution_count": null,
   "metadata": {
    "collapsed": true
   },
   "outputs": [],
   "source": []
  }
 ],
 "metadata": {
  "anaconda-cloud": {},
  "kernelspec": {
   "display_name": "Python [Root]",
   "language": "python",
   "name": "Python [Root]"
  },
  "language_info": {
   "codemirror_mode": {
    "name": "ipython",
    "version": 2
   },
   "file_extension": ".py",
   "mimetype": "text/x-python",
   "name": "python",
   "nbconvert_exporter": "python",
   "pygments_lexer": "ipython2",
   "version": "2.7.13"
  }
 },
 "nbformat": 4,
 "nbformat_minor": 0
}
