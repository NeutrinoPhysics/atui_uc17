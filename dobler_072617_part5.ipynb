{
 "cells": [
  {
   "cell_type": "markdown",
   "metadata": {},
   "source": [
    "(always be aware of your imports and **be sure to preserve namespaces**!!!)"
   ]
  },
  {
   "cell_type": "code",
   "execution_count": null,
   "metadata": {
    "collapsed": true
   },
   "outputs": [],
   "source": [
    "import os\n",
    "import glob\n",
    "import numpy as np\n",
    "import matplotlib.pyplot as plt\n",
    "import tensorflow as tf\n",
    "import scipy.ndimage as nd\n",
    "\n",
    "%matplotlib inline\n",
    "\n",
    "plt.rcParams[\"image.cmap\"] = \"gist_gray\""
   ]
  },
  {
   "cell_type": "markdown",
   "metadata": {},
   "source": [
    "---"
   ]
  },
  {
   "cell_type": "markdown",
   "metadata": {},
   "source": [
    "### Using a pre-trained Tensorflow model\n",
    "\n",
    "Training on my laptop's CPU took a long time thus reducing the number of epochs for which I was willing to wait.  Using a GPU, we now have a model trained with 96% accuracy.  Let's use that for our classifier, and try to detect cars in these images:"
   ]
  },
  {
   "cell_type": "code",
   "execution_count": null,
   "metadata": {
    "collapsed": false
   },
   "outputs": [],
   "source": [
    "# -- get the image path\n",
    "impath1 = os.path.join(\"images\", \"dot_dl\", \"cctv528_000049.jpg\")\n",
    "impath2 = os.path.join(\"images\", \"dot_dl\", \"cctv679_000024.jpg\")\n",
    "\n",
    "# -- read in the images\n",
    "img1 = nd.imread(impath1)\n",
    "img2 = nd.imread(impath2)\n",
    "\n",
    "\n",
    "# -- plot the images\n",
    "fig, ax = plt.subplots(1, 2, figsize=(10, 6))\n",
    "[i.axis(\"off\") for i in ax]\n",
    "ims = [i.imshow(j) for i, j in zip(ax, (img1, img2))]\n",
    "fig.canvas.draw()"
   ]
  },
  {
   "cell_type": "markdown",
   "metadata": {},
   "source": [
    "First things first, let's load the pretrained model and make sure that we're getting high accuracy on a mix of test and training data."
   ]
  },
  {
   "cell_type": "markdown",
   "metadata": {},
   "source": [
    "#### LOADING AND TESTING THE PRETRAINED MODEL"
   ]
  },
  {
   "cell_type": "markdown",
   "metadata": {},
   "source": [
    "First we launch an interactive TF session into which the model can be restored"
   ]
  },
  {
   "cell_type": "code",
   "execution_count": null,
   "metadata": {
    "collapsed": true
   },
   "outputs": [],
   "source": [
    "sess = tf.InteractiveSession()"
   ]
  },
  {
   "cell_type": "markdown",
   "metadata": {},
   "source": [
    "Now we restore the model"
   ]
  },
  {
   "cell_type": "code",
   "execution_count": null,
   "metadata": {
    "collapsed": false
   },
   "outputs": [],
   "source": [
    "# -- define the model path\n",
    "mdir  = \"models\"\n",
    "mpath = os.path.join(mdir, \"vehicle_detector.ckpt.meta\")\n",
    "\n",
    "# -- restore it\n",
    "saver = tf.train.import_meta_graph(mpath)\n",
    "saver.restore(sess, tf.train.latest_checkpoint(mdir))"
   ]
  },
  {
   "cell_type": "markdown",
   "metadata": {},
   "source": [
    "then access the graph, the accuracy function, and the input variables for testing,"
   ]
  },
  {
   "cell_type": "code",
   "execution_count": null,
   "metadata": {
    "collapsed": true
   },
   "outputs": [],
   "source": [
    "# -- access computational graph and utilities for testing\n",
    "graph     = tf.get_default_graph()\n",
    "accuracy  = graph.get_tensor_by_name(\"accuracy:0\")\n",
    "x         = graph.get_tensor_by_name(\"x:0\")\n",
    "y_        = graph.get_tensor_by_name(\"y_:0\")\n",
    "keep_prob = graph.get_tensor_by_name(\"keep_prob:0\")"
   ]
  },
  {
   "cell_type": "markdown",
   "metadata": {},
   "source": [
    "Let's get the postage stamps for testing like we did before,"
   ]
  },
  {
   "cell_type": "code",
   "execution_count": null,
   "metadata": {
    "collapsed": true
   },
   "outputs": [],
   "source": [
    "# -- get path to images\n",
    "stpath = os.path.join(\"images\", \"dl_training_lum\", \"*.npy\")\n",
    "stlist = sorted(glob.glob(stpath))\n",
    "nstamp = len(stlist)\n",
    "\n",
    "# -- set a shuffle index\n",
    "np.random.seed(314)\n",
    "sind = np.random.rand(nstamp).argsort()\n",
    "\n",
    "# -- read the postage stamps and shuffle\n",
    "stamps = np.array([np.load(i)[1:-1, 1:-1].flatten() for i in stlist]).astype(np.float32)[sind]\n",
    "npix   = stamps.shape[1]\n",
    "nside  = int(np.sqrt(npix))\n",
    "\n",
    "# -- set the labels\n",
    "labels = np.array([[1.0, 0.0] if \"pos\" in i  else [0.0, 1.0] for i in stlist]).astype(np.float32)[sind]"
   ]
  },
  {
   "cell_type": "markdown",
   "metadata": {},
   "source": [
    "and feed these postage stamps forward through the network:"
   ]
  },
  {
   "cell_type": "code",
   "execution_count": null,
   "metadata": {
    "collapsed": false
   },
   "outputs": [],
   "source": [
    "# -- set the inputs and feed forward\n",
    "test_in = {x:stamps, y_:labels, keep_prob:1.0} # don't use dropout for testing\n",
    "test_accuracy = accuracy.eval(feed_dict=test_in)\n",
    "print(\"test accuracy {0}\".format(test_accuracy))"
   ]
  },
  {
   "cell_type": "markdown",
   "metadata": {},
   "source": [
    "(notice the accuracy is **higher** than the testing accuracy when we built the model! ... why might that be?)"
   ]
  },
  {
   "cell_type": "markdown",
   "metadata": {},
   "source": [
    "---"
   ]
  },
  {
   "cell_type": "markdown",
   "metadata": {},
   "source": [
    "#### DETECTING VEHICLES IN A WHOLE IMAGE"
   ]
  },
  {
   "cell_type": "markdown",
   "metadata": {},
   "source": [
    "We trained the model on postage stamps (which means that the model is expecting postage stamp size ($48 \\times 48$ pixels) inputs.  Thus, we need to break our input up into many such sub images and keep track of the locations of these subimages.  This process is sometimes known as the \"sliding window\" approach."
   ]
  },
  {
   "cell_type": "markdown",
   "metadata": {},
   "source": [
    "First we convert our images to scaled luminosities:"
   ]
  },
  {
   "cell_type": "code",
   "execution_count": null,
   "metadata": {
    "collapsed": true
   },
   "outputs": [],
   "source": [
    "# -- convert to luminosity\n",
    "img1_L = img1.mean(-1) / 255.\n",
    "img2_L = img2.mean(-1) / 255."
   ]
  },
  {
   "cell_type": "markdown",
   "metadata": {},
   "source": [
    "Now we break up our image into $48 \\times 48$ postage stamps with some indexing:"
   ]
  },
  {
   "cell_type": "code",
   "execution_count": null,
   "metadata": {
    "collapsed": true
   },
   "outputs": [],
   "source": [
    "# -- we'll want our image to contain an integer number of postage stamps\n",
    "buff   = 8\n",
    "img1_L = img1_L[:, buff:-buff]\n",
    "img2_L = img2_L[:, buff:-buff]"
   ]
  },
  {
   "cell_type": "markdown",
   "metadata": {},
   "source": [
    "How many postage stamps does this make?  Well, since our postage stamp size is $48 \\times 48$, this means that"
   ]
  },
  {
   "cell_type": "code",
   "execution_count": null,
   "metadata": {
    "collapsed": false
   },
   "outputs": [],
   "source": [
    "# -- calculate the number of postage stamps per image\n",
    "nrow, ncol = img1_L.shape\n",
    "nst_r = nrow - 48\n",
    "nst_c = ncol - 48\n",
    "print(\"total number of postage stamps in this image is {0}\".format(nst_r * nst_c))"
   ]
  },
  {
   "cell_type": "markdown",
   "metadata": {},
   "source": [
    "That's a **lot** of postage stamps... we'll reduce this number in a minute.  First let's set up the indexing to get the postage stamps."
   ]
  },
  {
   "cell_type": "code",
   "execution_count": null,
   "metadata": {
    "collapsed": false
   },
   "outputs": [],
   "source": [
    "# -- set up row and column indices\n",
    "rind = np.arange(nrow * ncol).reshape(nrow, ncol) // ncol\n",
    "cind = np.arange(nrow * ncol).reshape(nrow, ncol) % ncol\n",
    "\n",
    "rlo = rind[:-48, 24:-24].flatten()\n",
    "rhi = rind[48:, 24:-24].flatten()\n",
    "clo = cind[24:-24, :-48].flatten()\n",
    "chi = cind[24:-24, 48:].flatten()\n",
    "\n",
    "# -- pull off postage stamps\n",
    "stamps1 = np.array([img1_L[i:j, k:l] for i, j, k, l in zip(rlo, rhi, clo, chi)]).reshape(nst_r * nst_c, npix)\n",
    "stamps2 = np.array([img2_L[i:j, k:l] for i, j, k, l in zip(rlo, rhi, clo, chi)]).reshape(nst_r * nst_c, npix)"
   ]
  },
  {
   "cell_type": "code",
   "execution_count": null,
   "metadata": {
    "collapsed": false
   },
   "outputs": [],
   "source": [
    "# -- verify that these are the right size\n",
    "print(\"number of postage stamps == 55296? : {0}\".format(stamps1.shape[0] == nst_r * nst_c))"
   ]
  },
  {
   "cell_type": "markdown",
   "metadata": {},
   "source": [
    "Let's plot and make sure"
   ]
  },
  {
   "cell_type": "code",
   "execution_count": null,
   "metadata": {
    "collapsed": false
   },
   "outputs": [],
   "source": [
    "# -- plot the images\n",
    "fig1, ax1 = plt.subplots(figsize=(10, 6))\n",
    "ax1.axis(\"off\")\n",
    "ax1.imshow(img1_L)\n",
    "fig1.canvas.draw()\n",
    "\n",
    "fig2, ax2 = plt.subplots(1, 2, figsize=(8.25, 5))\n",
    "[i.axis(\"off\") for i in ax2]\n",
    "ims = [i.imshow(j) for i, j in zip(ax2, (stamps1[0].reshape(48, 48), stamps1[-1].reshape(48, 48)))]\n",
    "fig2.canvas.draw()"
   ]
  },
  {
   "cell_type": "markdown",
   "metadata": {},
   "source": [
    "For each of these postage stamps, we want to know the probability that there is a vehicle.  Recall from the model building that the output layer was called \"y_conv\".  Let's calculate this for some postage stamps (with \"strides\" set to 3 in the row and column directions)."
   ]
  },
  {
   "cell_type": "code",
   "execution_count": null,
   "metadata": {
    "collapsed": false
   },
   "outputs": [],
   "source": [
    "# -- calculate index for 3x3 strides and sub-select postage stamps\n",
    "gind = np.arange(nst_r * nst_c).reshape(nst_r, nst_c)[::3, ::3].flatten()\n",
    "sub  = stamps1[gind]\n",
    "\n",
    "# -- pass these through the network\n",
    "y_conv = graph.get_tensor_by_name(\"y_conv:0\")\n",
    "indict = {x:sub, keep_prob:1.0}\n",
    "output = sess.run(y_conv, indict)"
   ]
  },
  {
   "cell_type": "code",
   "execution_count": null,
   "metadata": {
    "collapsed": false
   },
   "outputs": [],
   "source": [
    "print(\"CNN output = \\n{0}\".format(output))"
   ]
  },
  {
   "cell_type": "markdown",
   "metadata": {},
   "source": [
    "Let's apply our own softmax to the output:"
   ]
  },
  {
   "cell_type": "code",
   "execution_count": null,
   "metadata": {
    "collapsed": false
   },
   "outputs": [],
   "source": [
    "# -- apply softmax\n",
    "prob = np.exp(output) / np.exp(output).sum(1, keepdims=True)"
   ]
  },
  {
   "cell_type": "code",
   "execution_count": null,
   "metadata": {
    "collapsed": false
   },
   "outputs": [],
   "source": [
    "# -- display\n",
    "detect = prob[:, 0].reshape(nst_r/3, nst_c/3) > 0.99\n",
    "img1_L_reg = img1_L[24:-24, 24:-24]\n",
    "\n",
    "fig, ax = plt.subplots(1, 2, figsize=(10, 6))\n",
    "[i.axis(\"off\") for i in ax]\n",
    "ims = [i.imshow(j) for i, j in zip(ax, (img1_L_reg, detect))]\n",
    "fig.canvas.draw()"
   ]
  },
  {
   "cell_type": "markdown",
   "metadata": {},
   "source": [
    "And the second image:"
   ]
  },
  {
   "cell_type": "code",
   "execution_count": null,
   "metadata": {
    "collapsed": true
   },
   "outputs": [],
   "source": [
    "# -- pass postage stamps from second image through\n",
    "indict2 = {x:stamps2[gind], keep_prob:1.0}\n",
    "output2 = sess.run(y_conv, indict2)"
   ]
  },
  {
   "cell_type": "code",
   "execution_count": null,
   "metadata": {
    "collapsed": true
   },
   "outputs": [],
   "source": [
    "# -- apply softmax\n",
    "prob2 = np.exp(output2) / np.exp(output2).sum(1, keepdims=True)"
   ]
  },
  {
   "cell_type": "code",
   "execution_count": null,
   "metadata": {
    "collapsed": false
   },
   "outputs": [],
   "source": [
    "# -- display\n",
    "detect2 = prob2[:, 0].reshape(nst_r/3, nst_c/3) > 0.99\n",
    "img2_L_reg = img2_L[24:-24, 24:-24]\n",
    "\n",
    "fig, ax = plt.subplots(1, 2, figsize=(10, 6))\n",
    "[i.axis(\"off\") for i in ax]\n",
    "ims = [i.imshow(j) for i, j in zip(ax, (img2_L_reg, detect2))]\n",
    "fig.canvas.draw()"
   ]
  },
  {
   "cell_type": "markdown",
   "metadata": {},
   "source": [
    "What about a random image?"
   ]
  },
  {
   "cell_type": "code",
   "execution_count": null,
   "metadata": {
    "collapsed": false
   },
   "outputs": [],
   "source": [
    "img3 = nd.imread(os.path.join(\"images\", \"cctv734_ex.jpg\"))\n",
    "\n",
    "# -- plot the images\n",
    "fig, ax = plt.subplots(figsize=(6, 6))\n",
    "ax.axis(\"off\")\n",
    "im = ax.imshow(img3)\n",
    "fig.canvas.draw()"
   ]
  },
  {
   "cell_type": "code",
   "execution_count": null,
   "metadata": {
    "collapsed": false
   },
   "outputs": [],
   "source": [
    "# -- pull postage stamps from image\n",
    "img3_L = img3[:, buff:-buff].mean(-1) / 255.\n",
    "stamps3 = np.array([img3_L[i:j, k:l] for i, j, k, l in zip(rlo, rhi, clo, chi)]).reshape(nst_r * nst_c, npix)"
   ]
  },
  {
   "cell_type": "code",
   "execution_count": null,
   "metadata": {
    "collapsed": false
   },
   "outputs": [],
   "source": [
    "# -- feed postage stamps through network\n",
    "indict3 = {x:stamps3[gind], keep_prob:1.0}\n",
    "output3 = sess.run(y_conv, indict3)"
   ]
  },
  {
   "cell_type": "code",
   "execution_count": null,
   "metadata": {
    "collapsed": true
   },
   "outputs": [],
   "source": [
    "# -- apply softmax\n",
    "prob3 = np.exp(output3) / np.exp(output3).sum(1, keepdims=True)"
   ]
  },
  {
   "cell_type": "code",
   "execution_count": null,
   "metadata": {
    "collapsed": false
   },
   "outputs": [],
   "source": [
    "# -- display\n",
    "detect3 = prob3[:, 0].reshape(nst_r/3, nst_c/3) > 0.99\n",
    "img3_L_reg = img3_L[24:-24, 24:-24]\n",
    "\n",
    "fig, ax = plt.subplots(1, 2, figsize=(10, 6))\n",
    "[i.axis(\"off\") for i in ax]\n",
    "ims = [i.imshow(j) for i, j in zip(ax, (img3_L_reg, detect3))]\n",
    "fig.canvas.draw()"
   ]
  },
  {
   "cell_type": "markdown",
   "metadata": {},
   "source": [
    "---"
   ]
  },
  {
   "cell_type": "markdown",
   "metadata": {},
   "source": [
    "**PRACTICE**: Notice that we built the network using only the luminosity of the pixels.  We could have used all three color channels and may have gotten a more accurate classifier.  How would the network need to change to incorporate all three color channels?  I have included RGB versions of the postage stamps in the folder image/dl_training_scl.  Give it a try! "
   ]
  }
 ],
 "metadata": {
  "kernelspec": {
   "display_name": "Python 2",
   "language": "python",
   "name": "python2"
  },
  "language_info": {
   "codemirror_mode": {
    "name": "ipython",
    "version": 2
   },
   "file_extension": ".py",
   "mimetype": "text/x-python",
   "name": "python",
   "nbconvert_exporter": "python",
   "pygments_lexer": "ipython2",
   "version": "2.7.13"
  }
 },
 "nbformat": 4,
 "nbformat_minor": 2
}
