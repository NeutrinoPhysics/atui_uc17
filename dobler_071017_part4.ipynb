{
 "cells": [
  {
   "cell_type": "markdown",
   "metadata": {},
   "source": [
    "(always be aware of your imports and <b><u><i>preserve namespaces</i></u></b>!!!)"
   ]
  },
  {
   "cell_type": "code",
   "execution_count": 2,
   "metadata": {
    "collapsed": false
   },
   "outputs": [],
   "source": [
    "import os\n",
    "import numpy as np\n",
    "import scipy.ndimage as nd\n",
    "import matplotlib.pyplot as plt\n",
    "\n",
    "plt.ion() # set interactive matplotlib\n",
    "plt.rcParams[\"image.cmap\"] = \"gist_gray\""
   ]
  },
  {
   "cell_type": "markdown",
   "metadata": {},
   "source": [
    "## Interactive Matplotlib: Part 2\n",
    "---\n",
    "\n",
    "#### Matplotlib events\n",
    "Let's visualize the city image as before:"
   ]
  },
  {
   "cell_type": "code",
   "execution_count": 3,
   "metadata": {
    "collapsed": false
   },
   "outputs": [],
   "source": [
    "# -- read the image and get attributes\n",
    "dpath = \"images\"\n",
    "fname = \"city_image.jpg\"\n",
    "img   = nd.imread(os.path.join(dpath, fname))\n",
    "nrow = img.shape[0]\n",
    "ncol = img.shape[1]\n",
    "\n",
    "# -- display the image\n",
    "xs   = 10.\n",
    "ys   = xs * float(nrow) / float(ncol)\n",
    "fig0, ax0 = plt.subplots(num=0, figsize=(xs, ys))\n",
    "fig0.subplots_adjust(0, 0, 1, 1)\n",
    "ax0.axis(\"off\")\n",
    "im0 = ax0.imshow(img)\n",
    "fig0.canvas.draw()"
   ]
  },
  {
   "cell_type": "markdown",
   "metadata": {},
   "source": [
    "and let's get the negative as before:"
   ]
  },
  {
   "cell_type": "code",
   "execution_count": 4,
   "metadata": {
    "collapsed": true
   },
   "outputs": [],
   "source": [
    "neg  = 255 - img\n",
    "imgs = [img, neg]"
   ]
  },
  {
   "cell_type": "markdown",
   "metadata": {},
   "source": [
    "If we wanted to flip back and forth between these, two in the same window, so far we could either:\n",
    "\n",
    "1. use im0.set_data(neg) follwed by fig0.canvas.draw()\n",
    "2. use ginput() to \"trigger\" 1.\n",
    "\n",
    "But what if we wanted to use the click for something else?  Or didn't want to write an infinite loop?  Or wanted to run other code while still being able to toggle back and forth between them? "
   ]
  },
  {
   "cell_type": "markdown",
   "metadata": {},
   "source": [
    "To accomplish this, matplotlib has an **extremely** useful feature: mpl_connect, that binds function calls to \"events\" within a matplotlib canvas."
   ]
  },
  {
   "cell_type": "markdown",
   "metadata": {},
   "source": [
    "\n",
    "First, let's define what we want the function to do:"
   ]
  },
  {
   "cell_type": "code",
   "execution_count": 5,
   "metadata": {
    "collapsed": false
   },
   "outputs": [],
   "source": [
    "neg_flag = [True] # a flag to determine the state of the displayed image\n",
    "\n",
    "def toggle(event):\n",
    "    \"\"\"\n",
    "    Toggle between two images (defined outside of this \n",
    "    function as a list named \"imgs\")\n",
    "    \"\"\"\n",
    "    \n",
    "    # -- if the \"n\" key is pressed\n",
    "    if event.key == \"n\":\n",
    "\n",
    "        # flip the display flag\n",
    "        neg_flag[0] = ~neg_flag[0]\n",
    "        \n",
    "        # reset the data\n",
    "        im0.set_data(imgs[neg_flag[0]])\n",
    "        fig0.canvas.draw()\n",
    "        \n",
    "    return"
   ]
  },
  {
   "cell_type": "markdown",
   "metadata": {},
   "source": [
    "Now bind that function to the canvas."
   ]
  },
  {
   "cell_type": "code",
   "execution_count": 6,
   "metadata": {
    "collapsed": false
   },
   "outputs": [],
   "source": [
    "dum = fig0.canvas.mpl_connect(\"key_press_event\", toggle)"
   ]
  },
  {
   "cell_type": "markdown",
   "metadata": {},
   "source": [
    "---\n",
    "\n",
    "### Make a \"true\" spotlight widget\n",
    "\n",
    "0. Read in an image and make a mask of Falses.\n",
    "1. Display an image.\n",
    "2. Define a function that:\n",
    "    - resets the mask to False everywhere\n",
    "    - gets the x, y coordinates of the mouse\n",
    "    - resets the mask within a radius of 100 to True\n",
    "    - updates the display\n",
    "3. Link that function to the canvas using the \"motion_notify_event\" event name."
   ]
  },
  {
   "cell_type": "code",
   "execution_count": 6,
   "metadata": {
    "collapsed": true
   },
   "outputs": [],
   "source": [
    "plt.close(\"all\")"
   ]
  },
  {
   "cell_type": "code",
   "execution_count": null,
   "metadata": {
    "collapsed": true
   },
   "outputs": [],
   "source": []
  }
 ],
 "metadata": {
  "anaconda-cloud": {},
  "kernelspec": {
   "display_name": "Python [Root]",
   "language": "python",
   "name": "Python [Root]"
  },
  "language_info": {
   "codemirror_mode": {
    "name": "ipython",
    "version": 2
   },
   "file_extension": ".py",
   "mimetype": "text/x-python",
   "name": "python",
   "nbconvert_exporter": "python",
   "pygments_lexer": "ipython2",
   "version": "2.7.13"
  }
 },
 "nbformat": 4,
 "nbformat_minor": 0
}
