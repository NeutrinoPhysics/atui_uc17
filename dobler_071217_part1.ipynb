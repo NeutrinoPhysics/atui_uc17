{
 "cells": [
  {
   "cell_type": "markdown",
   "metadata": {},
   "source": [
    "(always be aware of your imports and <b><u><i>preserve namespaces</i></u></b>!!!)"
   ]
  },
  {
   "cell_type": "code",
   "execution_count": 1,
   "metadata": {
    "collapsed": true
   },
   "outputs": [],
   "source": [
    "import os\n",
    "import sys\n",
    "import time\n",
    "import numpy as np\n",
    "import scipy.ndimage as nd\n",
    "import matplotlib.pyplot as plt\n",
    "\n",
    "%matplotlib tk\n",
    "\n",
    "plt.ion()\n",
    "plt.rcParams[\"image.cmap\"] = \"gist_gray\""
   ]
  },
  {
   "cell_type": "markdown",
   "metadata": {},
   "source": [
    "---\n",
    "\n",
    "## Advanced (and relational) indexing: Part 2\n",
    "\n",
    "Last time we saw indexing based on position within an image, we can index on pixel <i>values</i> which is useful for selecting subcomponents of an image that are not conected compoenents.  As an example, let's create an image consisting of a blue circle and line:"
   ]
  },
  {
   "cell_type": "code",
   "execution_count": 2,
   "metadata": {
    "collapsed": true
   },
   "outputs": [],
   "source": [
    "rind = np.arange(20000).reshape(200, 100) // 100\n",
    "cind = np.arange(20000).reshape(200, 100) % 100\n",
    "two_ln = ((rind > 130) & (rind < 150)) | \\\n",
    "    (np.sqrt((rind - 50)**2+(cind - 50)**2) < 20)\n",
    "two_ln_c = np.dstack([64 * two_ln, 128 * two_ln, \n",
    "                      192 * two_ln]).astype(np.uint8)"
   ]
  },
  {
   "cell_type": "markdown",
   "metadata": {},
   "source": [
    "Plotting it:"
   ]
  },
  {
   "cell_type": "code",
   "execution_count": 3,
   "metadata": {
    "collapsed": true
   },
   "outputs": [],
   "source": [
    "fig0, ax0 = plt.subplots(num=0, figsize=[3, 5])\n",
    "im0 = ax0.imshow(two_ln_c)\n",
    "fig0.canvas.draw()"
   ]
  },
  {
   "cell_type": "markdown",
   "metadata": {},
   "source": [
    "Now identify the pixels in 2D which have the specified color and set those pixels to brown,"
   ]
  },
  {
   "cell_type": "code",
   "execution_count": 4,
   "metadata": {
    "collapsed": true
   },
   "outputs": [],
   "source": [
    "index = (two_ln_c[..., 0] == 64) & \\\n",
    "    (two_ln_c[..., 1] == 128) & \\\n",
    "    (two_ln_c[..., 2] == 192)\n",
    "two_ln_c[index] = [192, 128, 64]"
   ]
  },
  {
   "cell_type": "markdown",
   "metadata": {},
   "source": [
    "and replot."
   ]
  },
  {
   "cell_type": "code",
   "execution_count": 5,
   "metadata": {
    "collapsed": true
   },
   "outputs": [],
   "source": [
    "im0.set_data(two_ln_c)\n",
    "fig0.canvas.draw()"
   ]
  },
  {
   "cell_type": "code",
   "execution_count": 6,
   "metadata": {
    "collapsed": true
   },
   "outputs": [],
   "source": [
    "plt.close(0)"
   ]
  },
  {
   "cell_type": "markdown",
   "metadata": {},
   "source": [
    "Now let's try it on an actual image."
   ]
  },
  {
   "cell_type": "code",
   "execution_count": 7,
   "metadata": {
    "collapsed": true
   },
   "outputs": [],
   "source": [
    "dpath  = \"images\"\n",
    "fname  = \"city_image.jpg\"\n",
    "infile = os.path.join(dpath, fname)\n",
    "img    = nd.imread(infile)\n",
    "\n",
    "nrow, ncol = img.shape[:2]\n",
    "xsize = 8.\n",
    "ysize = xsize * float(nrow) / float(ncol)\n",
    "\n",
    "fig0, ax0 = plt.subplots(num=0, figsize=[xsize, ysize])\n",
    "fig0.subplots_adjust(0, 0, 1, 1)\n",
    "ax0.grid(\"off\")\n",
    "im0 = ax0.imshow(img)\n",
    "fig0.canvas.draw()"
   ]
  },
  {
   "cell_type": "markdown",
   "metadata": {},
   "source": [
    "#### TODO: Highlight predominanly blue pixels"
   ]
  },
  {
   "cell_type": "code",
   "execution_count": 8,
   "metadata": {
    "collapsed": false
   },
   "outputs": [],
   "source": [
    "ind_blu = img.argmax(-1) == 2\n",
    "im0.set_data(ind_blu)\n",
    "im0.set_clim((0, 1))\n",
    "fig0.canvas.draw()"
   ]
  },
  {
   "cell_type": "code",
   "execution_count": 9,
   "metadata": {
    "collapsed": false
   },
   "outputs": [],
   "source": [
    "hl = (img[ind_blu] * np.array([0.1, 1.0, 0.1])) \\\n",
    "    .astype(np.uint8)\n",
    "img[ind_blu] = hl\n",
    "im0.set_data(img)\n",
    "fig0.canvas.draw()"
   ]
  },
  {
   "cell_type": "code",
   "execution_count": 10,
   "metadata": {
    "collapsed": true
   },
   "outputs": [],
   "source": [
    "plt.close(0)"
   ]
  },
  {
   "cell_type": "markdown",
   "metadata": {},
   "source": [
    "---\n",
    "\n",
    "## Example: Invasive Species"
   ]
  },
  {
   "cell_type": "markdown",
   "metadata": {},
   "source": [
    "Freshkills is a 2,200 acre former landfill on Staten Island that is in the process of being converted into a park (Freshkills park).  There is significant contamination by an invasive species called phragmites.\n",
    "\n",
    "#### CUSP PhD student Nick Johnson flew a balloon over Freshkills Park to image the extent of the phragmites invasion."
   ]
  },
  {
   "cell_type": "code",
   "execution_count": 11,
   "metadata": {
    "collapsed": true
   },
   "outputs": [],
   "source": [
    "dpath  = \"images\"\n",
    "dfile  = \"phrag-annotated.png\"\n",
    "infile = os.path.join(dpath, dfile)\n",
    "img    = nd.imread(infile)[:, :, :3] # ignore the alpha channel\n",
    "nrow, ncol = img.shape[:2]\n",
    "\n",
    "xsize = 6.5\n",
    "ysize = xsize * float(nrow) / float(ncol)\n",
    "fig0, ax0 = plt.subplots(num=0, figsize=[xsize, ysize])\n",
    "fig0.subplots_adjust(0,0,1,1)\n",
    "ax0.axis(\"off\")\n",
    "im0 = ax0.imshow(img)\n",
    "fig0.canvas.draw()"
   ]
  },
  {
   "cell_type": "markdown",
   "metadata": {},
   "source": [
    "What separates the phragmites from the healthy vegetation is the <i>color</i>.  But we already know how to index on color, so let's get an idea of what color we're looking for.  If we zoom in on a region dominated by phragmites:"
   ]
  },
  {
   "cell_type": "code",
   "execution_count": 12,
   "metadata": {
    "collapsed": true
   },
   "outputs": [],
   "source": [
    "prow = [1460, 1605]\n",
    "pcol = [4015, 4354]\n",
    "llp  = (pcol[0], prow[0])\n",
    "widp = pcol[1] - pcol[0]\n",
    "hgtp = prow[1] - prow[0]\n",
    "\n",
    "ax0.add_patch(plt.Rectangle(llp, widp, hgtp, facecolor='none', \n",
    "                            edgecolor='orange', lw=2))\n",
    "ax0.set_xlim(pcol[0] - 100, pcol[1] + 100)\n",
    "ax0.set_ylim(prow[0] - 100, prow[1] + 100)\n",
    "fig0.canvas.draw()"
   ]
  },
  {
   "cell_type": "markdown",
   "metadata": {},
   "source": [
    "We can see that it's a bit bluer than a region with healthy vegetation:"
   ]
  },
  {
   "cell_type": "code",
   "execution_count": 13,
   "metadata": {
    "collapsed": false
   },
   "outputs": [],
   "source": [
    "hrow = [2650, 2905]\n",
    "hcol = [570, 915]\n",
    "llh  = (hcol[0], hrow[0])\n",
    "widh = hcol[1] - hcol[0]\n",
    "hgth = hrow[1] - hrow[0]\n",
    "\n",
    "ax0.add_patch(plt.Rectangle(llh, widh, hgth, facecolor='none', \n",
    "                            edgecolor='orange', lw=2))\n",
    "ax0.set_xlim(hcol[0] - 100, hcol[1] + 100)\n",
    "ax0.set_ylim(hrow[0] - 100, hrow[1] + 100)\n",
    "fig0.canvas.draw()"
   ]
  },
  {
   "cell_type": "code",
   "execution_count": 14,
   "metadata": {
    "collapsed": true
   },
   "outputs": [],
   "source": [
    "ax0.set_xlim(0, ncol)\n",
    "ax0.set_ylim(nrow, 0)\n",
    "fig0.canvas.draw()"
   ]
  },
  {
   "cell_type": "markdown",
   "metadata": {},
   "source": [
    "To start understanding what kind of indexing we need to do, let's make some histograms."
   ]
  },
  {
   "cell_type": "code",
   "execution_count": 15,
   "metadata": {
    "collapsed": true
   },
   "outputs": [],
   "source": [
    "stamp_ph = img[prow[0]:prow[1], pcol[0]:pcol[1]]\n",
    "stamp_he = img[hrow[0]:hrow[1], hcol[0]:hcol[1]]"
   ]
  },
  {
   "cell_type": "code",
   "execution_count": 16,
   "metadata": {
    "collapsed": true
   },
   "outputs": [],
   "source": [
    "clrs = [\"red\", \"green\", \"blue\"]\n",
    "fig1, ax1 = plt.subplots(2, 2, num=1, figsize=[2 * xsize, xsize])\n",
    "\n",
    "[ax1[0, 0].hist(stamp_ph[:, :, i].flatten(), bins=128, range=[0, 255], \n",
    "               normed=True, color=clrs[i]) for i in range(3)]\n",
    "[ax1[1, 0].hist(stamp_he[:, :, i].flatten(), bins=128, range=[0, 255], \n",
    "               normed=True, color=clrs[i]) for i in range(3)]\n",
    "[i.set_yticklabels('') for j in ax1 for i in j]\n",
    "\n",
    "ax1[0, 0].set_ylabel(\"phragmites\")\n",
    "ax1[1, 0].set_ylabel(\"healthy\")\n",
    "fig1.canvas.draw()"
   ]
  },
  {
   "cell_type": "markdown",
   "metadata": {},
   "source": [
    "So the first thing we can do is cut on the ratio of green to blue since the healthy vegetation has a ratio >1.5 for (more or less) all pixels in our patch."
   ]
  },
  {
   "cell_type": "code",
   "execution_count": 17,
   "metadata": {
    "collapsed": true
   },
   "outputs": [],
   "source": [
    "red, grn, blu = img.transpose(2, 0, 1)"
   ]
  },
  {
   "cell_type": "code",
   "execution_count": 20,
   "metadata": {
    "collapsed": false
   },
   "outputs": [
    {
     "data": {
      "text/plain": [
       "(3, 6024, 5453)"
      ]
     },
     "execution_count": 20,
     "metadata": {},
     "output_type": "execute_result"
    }
   ],
   "source": [
    "img.transpose(2, 0, 1).shape"
   ]
  },
  {
   "cell_type": "code",
   "execution_count": 21,
   "metadata": {
    "collapsed": false
   },
   "outputs": [
    {
     "name": "stderr",
     "output_type": "stream",
     "text": [
      "/Users/gdobler/anaconda/lib/python2.7/site-packages/ipykernel/__main__.py:1: RuntimeWarning: divide by zero encountered in divide\n",
      "  if __name__ == '__main__':\n",
      "/Users/gdobler/anaconda/lib/python2.7/site-packages/ipykernel/__main__.py:1: RuntimeWarning: invalid value encountered in divide\n",
      "  if __name__ == '__main__':\n",
      "/Users/gdobler/anaconda/lib/python2.7/site-packages/ipykernel/__main__.py:1: RuntimeWarning: invalid value encountered in less\n",
      "  if __name__ == '__main__':\n"
     ]
    }
   ],
   "source": [
    "hind = (1.0 * grn) / (1.0 * blu) < 1.5"
   ]
  },
  {
   "cell_type": "code",
   "execution_count": 22,
   "metadata": {
    "collapsed": true
   },
   "outputs": [],
   "source": [
    "hind = (1.0 * grn) / (1.0 * blu + (blu == 0)) < 1.5"
   ]
  },
  {
   "cell_type": "code",
   "execution_count": 23,
   "metadata": {
    "collapsed": false
   },
   "outputs": [],
   "source": [
    "hflag = [True]\n",
    "imgs  = [img, hind]\n",
    "im0.set_clim(0, 1)\n",
    "\n",
    "def toggle(event):\n",
    "    \"\"\"\n",
    "    Toggle between original image and phragmites indices.\n",
    "    \"\"\"\n",
    "\n",
    "    # -- if the \"n\" key is pressed\n",
    "    if event.key == \"n\":\n",
    "\n",
    "        # flip the display flag\n",
    "        hflag[0] = ~hflag[0]\n",
    "        \n",
    "        # reset the data\n",
    "        im0.set_data(imgs[hflag[0]])\n",
    "        fig0.canvas.draw()\n",
    "        \n",
    "dum = fig0.canvas.mpl_connect(\"key_press_event\", toggle)"
   ]
  },
  {
   "cell_type": "markdown",
   "metadata": {},
   "source": [
    "Looks like we're getting phragmites, dirt, and road.  Let's look at the histograms of the dirt and road:"
   ]
  },
  {
   "cell_type": "code",
   "execution_count": 24,
   "metadata": {
    "collapsed": true
   },
   "outputs": [],
   "source": [
    "drow = [2450, 2880]\n",
    "dcol = [1905, 2235]\n",
    "rrow = [1665, 1790]\n",
    "rcol = [3600, 3725]\n",
    "\n",
    "stamp_di = img[drow[0]:drow[1], dcol[0]:dcol[1]]\n",
    "stamp_rd = img[rrow[0]:rrow[1], rcol[0]:rcol[1]]\n",
    "\n",
    "for reg in [[drow, dcol], [rrow, rcol]]:\n",
    "    ax0.add_patch(plt.Rectangle((reg[1][0], reg[0][0]), \n",
    "                                reg[1][1] - reg[1][0], \n",
    "                                reg[0][1] - reg[0][0],\n",
    "                  facecolor='none', edgecolor='orange', lw=2))\n",
    "fig0.canvas.draw()"
   ]
  },
  {
   "cell_type": "code",
   "execution_count": 25,
   "metadata": {
    "collapsed": true
   },
   "outputs": [],
   "source": [
    "[ax1[0, 1].hist(stamp_di[:, :, i].flatten(), bins=128, range=[0, 255], \n",
    "               normed=True, color=clrs[i]) for i in range(3)]\n",
    "[ax1[1, 1].hist(stamp_rd[:, :, i].flatten(), bins=128, range=[0, 255], \n",
    "               normed=True, color=clrs[i]) for i in range(3)]\n",
    "\n",
    "ax1[0, 1].set_ylabel(\"dirt\")\n",
    "ax1[1, 1].set_ylabel(\"road\")\n",
    "\n",
    "fig1.canvas.draw()"
   ]
  },
  {
   "cell_type": "markdown",
   "metadata": {},
   "source": [
    "It looks like \"dirt\" has a high red-to-blue ratio compared to phragmites, so we update our definition of phragmites colors:"
   ]
  },
  {
   "cell_type": "code",
   "execution_count": 26,
   "metadata": {
    "collapsed": true
   },
   "outputs": [],
   "source": [
    "hind = ((1.0 * grn) / (1.0 * blu + (blu == 0)) < 1.5) & \\\n",
    "    ((1.0 * red) / (1.0 * blu + (blu == 0)) < 1.2)\n",
    "\n",
    "imgs = [img, hind] # reset for toggle function"
   ]
  },
  {
   "cell_type": "markdown",
   "metadata": {
    "collapsed": true
   },
   "source": [
    "Lastly, the road mostly has values $>200$ while the phragmites are $<200$ (also let's use the fact that phragmites have red values which are $<150$ and the lines are black)."
   ]
  },
  {
   "cell_type": "code",
   "execution_count": 27,
   "metadata": {
    "collapsed": true
   },
   "outputs": [],
   "source": [
    "hind = ((1.0 * grn)/(1.0 * blu + (blu == 0)) < 1.5) & \\\n",
    "    ((1.0 * red) / (1.0 * blu + (blu == 0)) < 1.2) & \\\n",
    "    (img.max(2) < 200) & \\\n",
    "    (red < 150) & \\\n",
    "    (img.max(2) > 50)\n",
    "\n",
    "imgs = [img, hind] # reset for toggle function"
   ]
  },
  {
   "cell_type": "code",
   "execution_count": 25,
   "metadata": {
    "collapsed": true
   },
   "outputs": [],
   "source": [
    "plt.close(\"all\")"
   ]
  },
  {
   "cell_type": "code",
   "execution_count": null,
   "metadata": {
    "collapsed": true
   },
   "outputs": [],
   "source": []
  }
 ],
 "metadata": {
  "anaconda-cloud": {},
  "kernelspec": {
   "display_name": "Python [Root]",
   "language": "python",
   "name": "Python [Root]"
  },
  "language_info": {
   "codemirror_mode": {
    "name": "ipython",
    "version": 2
   },
   "file_extension": ".py",
   "mimetype": "text/x-python",
   "name": "python",
   "nbconvert_exporter": "python",
   "pygments_lexer": "ipython2",
   "version": "2.7.13"
  }
 },
 "nbformat": 4,
 "nbformat_minor": 0
}
