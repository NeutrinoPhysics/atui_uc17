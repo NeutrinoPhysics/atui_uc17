{
 "cells": [
  {
   "cell_type": "markdown",
   "metadata": {},
   "source": [
    "(always be aware of your imports and <b><u><i>preserve namespaces</i></u></b>!!!)"
   ]
  },
  {
   "cell_type": "code",
   "execution_count": 1,
   "metadata": {
    "collapsed": true
   },
   "outputs": [],
   "source": [
    "import os\n",
    "import sys\n",
    "import time\n",
    "import numpy as np\n",
    "import scipy.ndimage as nd\n",
    "import matplotlib.pyplot as plt\n",
    "\n",
    "%matplotlib tk\n",
    "\n",
    "plt.ion()\n",
    "plt.rcParams[\"image.cmap\"] = \"gist_gray\""
   ]
  },
  {
   "cell_type": "markdown",
   "metadata": {},
   "source": [
    "---\n",
    "\n",
    "## Filtering\n",
    "\n",
    "Filtering is one of the most important techniques in data analysis with many, many applications including image and time series analysis.  First let's start with 1D.  In the continuous (non-discrete) case, a \"filter\" $f$ is applied to a function $g$ as\n",
    "\n",
    "$g^{\\prime}(x) = \\int_{-\\infty}^{\\infty} ~ f(x-x_0) ~ g(x_0) ~ dx_0$,\n",
    "\n",
    "where $g^{\\prime}$ is the filtered version of $g$.  The discrete case is a bit easier to understand:\n",
    "\n",
    "$g^{\\prime}_{i} = \\sum_{j=i-w}^{i+w} ~ f_j ~ g_j$.\n",
    "\n",
    "By definition, the filter should be constructed so that\n",
    "\n",
    "$\\sum_{j=-w}^{w} f_j = 1$\n",
    "\n",
    "The most important filters are the <b>top-hat</b> and <b>Gaussian</b> (the <b>median</b> filter is also widely used but works slightly differently than the above definition)."
   ]
  },
  {
   "cell_type": "markdown",
   "metadata": {},
   "source": [
    "### Top-hat filter\n",
    "\n",
    "The top-hat filter looks like this:"
   ]
  },
  {
   "cell_type": "code",
   "execution_count": 2,
   "metadata": {
    "collapsed": true
   },
   "outputs": [],
   "source": [
    "xxf, dx = np.linspace(-10, 10, 1000, retstep=True)\n",
    "\n",
    "width = 2\n",
    "tf    = 1.0 * (xxf > -width) * (xxf < width)\n",
    "tf   /= tf.sum()\n",
    "\n",
    "fig0, ax0 = plt.subplots(num=0)\n",
    "lin0, = ax0.plot(xxf, tf, 'k')\n",
    "ax0.text(-10, 0.01, 'Top-hat filter', va='bottom', ha='left', \n",
    "         fontsize=20)\n",
    "ax0.set_ylim(-0.005, 0.01)\n",
    "fig0.canvas.draw()"
   ]
  },
  {
   "cell_type": "markdown",
   "metadata": {},
   "source": [
    "it replaces the value at $i$ with the mean of values from $i-w$ to $i+w$ where $w$ is the width of the filter (here $w=2$)."
   ]
  },
  {
   "cell_type": "markdown",
   "metadata": {},
   "source": [
    "Imagine I have an array of data values, let's use temperature as an example:"
   ]
  },
  {
   "cell_type": "code",
   "execution_count": 3,
   "metadata": {
    "collapsed": true
   },
   "outputs": [],
   "source": [
    "day = np.arange(20.)\n",
    "T = np.array([38.6, 34.8, 36.3, 31.9, 34.2, 48.4, 46.4, \n",
    "              50.3, 51.6, 35.5, 51.3, 41.3, 38.9, 54.1, \n",
    "              40.5, 50.9, 43.5, 54.4, 44.5, 42.6])"
   ]
  },
  {
   "cell_type": "code",
   "execution_count": 4,
   "metadata": {
    "collapsed": true
   },
   "outputs": [],
   "source": [
    "fig1, ax1 = plt.subplots(num=1, figsize=[7, 5])\n",
    "pntsa,    = ax1.plot(day, T, \"o\", color=\"dodgerblue\", ms=10)\n",
    "ax1.set_ylabel(\"temperature\", fontsize=20)\n",
    "ax1.set_xlabel(\"day\", fontsize=20)\n",
    "fig1.canvas.draw()"
   ]
  },
  {
   "cell_type": "markdown",
   "metadata": {},
   "source": [
    "If we have a top hat filter of width 2, the we replace $T[i]$ with the mean of $T[i-2:i+2]$.  For example, $T[5]=48.4$ which replace by mean of $T[3:7]=[31.9, 34.2, 48.4, 46.4]$ which is $40.2$."
   ]
  },
  {
   "cell_type": "code",
   "execution_count": 5,
   "metadata": {
    "collapsed": true
   },
   "outputs": [],
   "source": [
    "rng = ax1.axvspan(day[5-2], day[5+2], facecolor=\"lime\", alpha=0.1)\n",
    "ax1.plot(day[5], np.mean(T[5-2:5+2]), \"o\", color=\"darkorange\", ms=10)\n",
    "fig1.canvas.draw()"
   ]
  },
  {
   "cell_type": "code",
   "execution_count": 6,
   "metadata": {
    "collapsed": true
   },
   "outputs": [],
   "source": [
    "spn = rng.get_xy()\n",
    "spn[:, 0] = [day[6-2], day[6-2], day[6+2], day[6+2], day[6-2]]\n",
    "rng.set_xy(spn)\n",
    "ax1.plot(day[6], np.mean(T[6-2:6+2]), \"o\", color=\"darkorange\", ms=10)\n",
    "fig1.canvas.draw()"
   ]
  },
  {
   "cell_type": "markdown",
   "metadata": {},
   "source": [
    "Similarly, $T[6]$ is replaced by the mean of $T[4:8] = [34.2, 48.4, 46.4, 50.3]$ which is $44.8$."
   ]
  },
  {
   "cell_type": "code",
   "execution_count": 7,
   "metadata": {
    "collapsed": false
   },
   "outputs": [],
   "source": [
    "pntsa.set_alpha(0.25)\n",
    "\n",
    "for ii in range(2, len(day) - 2):\n",
    "    spn[:, 0] = [day[ii-2], day[ii-2], day[ii+2], day[ii+2], day[ii-2]]\n",
    "    rng.set_xy(spn)\n",
    "    ax1.plot(day[ii], np.mean(T[ii-2:ii+2]), \"o\", color=\"darkorange\", \n",
    "            ms=10)\n",
    "    fig1.canvas.draw()\n",
    "    time.sleep(1)"
   ]
  },
  {
   "cell_type": "markdown",
   "metadata": {},
   "source": [
    "And if we double the width of the filter the noise is reduced further:"
   ]
  },
  {
   "cell_type": "code",
   "execution_count": 8,
   "metadata": {
    "collapsed": true
   },
   "outputs": [],
   "source": [
    "for ii in range(4, len(day) - 4):\n",
    "    spn[:, 0] = [day[ii-4], day[ii-4], day[ii+4], day[ii+4], day[ii-4]]\n",
    "    rng.set_xy(spn)\n",
    "    ax1.plot(day[ii], np.mean(T[ii-4:ii+4]), \"o\", color=\"darkred\",ms=10)\n",
    "    fig1.canvas.draw()\n",
    "    time.sleep(1)"
   ]
  },
  {
   "cell_type": "code",
   "execution_count": 9,
   "metadata": {
    "collapsed": false
   },
   "outputs": [],
   "source": [
    "plt.close(1)"
   ]
  },
  {
   "cell_type": "markdown",
   "metadata": {},
   "source": [
    "Let's make some noisy data and see how it works:"
   ]
  },
  {
   "cell_type": "code",
   "execution_count": 10,
   "metadata": {
    "collapsed": false
   },
   "outputs": [],
   "source": [
    "xx = np.linspace(-100, 100, int(200./dx))\n",
    "\n",
    "seed, sigma = 314, 0.1\n",
    "np.random.seed(seed)\n",
    "noise = sigma * np.random.randn(len(xx))\n",
    "\n",
    "yy = np.cos(1e-1 * xx) + noise\n",
    "\n",
    "fig1, ax1 = plt.subplots(num=1)\n",
    "lin1a, = ax1.plot(xx, yy, \"darkred\")\n",
    "ax1.set_ylim(-1.5, 1.5)\n",
    "fig1.canvas.draw()"
   ]
  },
  {
   "cell_type": "code",
   "execution_count": 11,
   "metadata": {
    "collapsed": false
   },
   "outputs": [],
   "source": [
    "yysm  = np.zeros(len(yy))\n",
    "fsize = len(tf)\n",
    "\n",
    "for ii in range(fsize/2, len(yysm) - fsize/2):\n",
    "    yysm[ii] = (yy[ii - fsize/2:ii + fsize/2] * tf).sum()\n",
    "    \n",
    "lin1b, = ax1.plot(xx, yysm, \"dodgerblue\")\n",
    "fig1.canvas.draw()"
   ]
  },
  {
   "cell_type": "code",
   "execution_count": 12,
   "metadata": {
    "collapsed": false
   },
   "outputs": [],
   "source": [
    "plt.close(0)\n",
    "plt.close(1)"
   ]
  },
  {
   "cell_type": "markdown",
   "metadata": {},
   "source": [
    "### Gaussian filter\n",
    "\n",
    "The Gaussian filter is precisely as it sounds, it is a filter shaped like a Gaussian with standard deviation $\\sigma$,\n",
    "\n",
    "$f_{\\rm Gaussian} = \\frac{1}{\\sqrt{2\\pi\\sigma^2}}e^{-\\frac{x^2}{2\\sigma^2}}$\n",
    "\n",
    "again,"
   ]
  },
  {
   "cell_type": "code",
   "execution_count": 13,
   "metadata": {
    "collapsed": true
   },
   "outputs": [],
   "source": [
    "xxf, dx = np.linspace(-10., 10., 1000, retstep=True)\n",
    "\n",
    "sigma = 10\n",
    "gf    = np.exp(-xxf**2 / np.sqrt(2.0 * sigma**2))\n",
    "gf   /= gf.sum()\n",
    "\n",
    "fig2, ax2 = plt.subplots(num=2)\n",
    "lin2,     = ax2.plot(xxf, gf, \"k\")\n",
    "ax2.text(-10, 0.01, \"Gaussian filter\", va=\"bottom\", ha=\"left\", \n",
    "         fontsize=20)\n",
    "ax2.set_ylim(-0.005, 0.01)\n",
    "fig2.canvas.draw()"
   ]
  },
  {
   "cell_type": "markdown",
   "metadata": {},
   "source": [
    "It is easiest to see it's effects on a step function:"
   ]
  },
  {
   "cell_type": "code",
   "execution_count": 14,
   "metadata": {
    "collapsed": true
   },
   "outputs": [],
   "source": [
    "xx = np.linspace(-100., 100., int(200./dx))\n",
    "yy = 1.0 * (xx > 20.)\n",
    "\n",
    "plt.close(3)\n",
    "fig3, ax3 = plt.subplots(num=3)\n",
    "lin3a, = ax3.plot(xx, yy, \"darkred\")\n",
    "ax3.set_ylim(-0.1, 1.5)\n",
    "fig3.canvas.draw()"
   ]
  },
  {
   "cell_type": "code",
   "execution_count": 15,
   "metadata": {
    "collapsed": true
   },
   "outputs": [],
   "source": [
    "yysm = np.zeros(len(yy))\n",
    "fsize = len(gf)\n",
    "\n",
    "for ii in range(fsize/2, len(yysm) - fsize/2):\n",
    "    yysm[ii] = (yy[ii - fsize/2:ii + fsize/2] * gf).sum()\n",
    "    \n",
    "lin3b, = ax3.plot(xx, yysm, \"dodgerblue\")\n",
    "fig3.canvas.draw()"
   ]
  },
  {
   "cell_type": "markdown",
   "metadata": {},
   "source": [
    "SciPy has several fast canned filtering routines.  For example,"
   ]
  },
  {
   "cell_type": "code",
   "execution_count": 16,
   "metadata": {
    "collapsed": true
   },
   "outputs": [],
   "source": [
    "gf = nd.filters.gaussian_filter"
   ]
  },
  {
   "cell_type": "code",
   "execution_count": 17,
   "metadata": {
    "collapsed": true
   },
   "outputs": [],
   "source": [
    "fig4, ax4 = plt.subplots(num=4)\n",
    "lin4a, = ax4.plot(xx, yy)\n",
    "lin4b, = ax4.plot(xx, gf(yy, 200)) # width of the filter is in sample units\n",
    "lin4c, = ax4.plot(xx, gf(yy, 1000))\n",
    "fig4.canvas.draw()"
   ]
  },
  {
   "cell_type": "markdown",
   "metadata": {},
   "source": [
    "This particular filter also works in 2d <i>and</i> allows you to specify the width of the filter for each axis:"
   ]
  },
  {
   "cell_type": "code",
   "execution_count": 18,
   "metadata": {
    "collapsed": true
   },
   "outputs": [],
   "source": [
    "img_L = nd.imread('images/city_image.jpg').mean(2)\n",
    "nrow, ncol = img_L.shape[:2]\n",
    "xsize = 5.5\n",
    "ysize = xsize * float(nrow) / float(ncol)\n",
    "\n",
    "fig5, ax5 = plt.subplots(3, 1, num=5, figsize=[xsize, 3 * ysize])\n",
    "[i.axis(\"off\") for i in ax5]\n",
    "fig5.subplots_adjust(0, 0, 1, 1, 0, 0)\n",
    "im5a = ax5[0].imshow(img_L)\n",
    "im5b = ax5[1].imshow(gf(1.0 * img_L, 5))\n",
    "im5c = ax5[2].imshow(gf(1.0 * img_L, [2, 20]))\n",
    "fig5.canvas.draw()"
   ]
  },
  {
   "cell_type": "code",
   "execution_count": 19,
   "metadata": {
    "collapsed": false
   },
   "outputs": [
    {
     "data": {
      "text/plain": [
       "[None, None, None, None, None]"
      ]
     },
     "execution_count": 19,
     "metadata": {},
     "output_type": "execute_result"
    }
   ],
   "source": [
    "[plt.close(i) for i in range(5)]"
   ]
  },
  {
   "cell_type": "markdown",
   "metadata": {},
   "source": [
    "### Edge detection revisited\n",
    "\n",
    "Gaussian smoothing to eliminate noise when finding edges.  Recall how we tried to find edges before:"
   ]
  },
  {
   "cell_type": "code",
   "execution_count": 20,
   "metadata": {
    "collapsed": false
   },
   "outputs": [],
   "source": [
    "edges_simp = np.abs(img_L[5:, 5:] - img_L[:-5, 5:]) + \\\n",
    "    np.abs(img_L[5:, 5:] - img_L[5:, :-5])\n",
    "\n",
    "im5b.set_data(edges_simp > 60)\n",
    "im5b.set_clim(0, 1)\n",
    "im5c.set_data(np.zeros(img_L.shape))\n",
    "fig5.canvas.draw()"
   ]
  },
  {
   "cell_type": "markdown",
   "metadata": {},
   "source": [
    "If we eliminate some noise with smoothing, our edges become a bit clearer:"
   ]
  },
  {
   "cell_type": "code",
   "execution_count": 23,
   "metadata": {
    "collapsed": true
   },
   "outputs": [],
   "source": [
    "imgsm_L = gf(img_L, 2)\n",
    "\n",
    "gauss_der = np.abs(imgsm_L[1:, 1:] - imgsm_L[:-1, 1:]) + \\\n",
    "    np.abs(imgsm_L[1:, 1:] - imgsm_L[1:, :-1])\n",
    "\n",
    "im5c.set_data(gauss_der)\n",
    "im5c.set_clim(0, 10)\n",
    "fig5.canvas.draw()"
   ]
  },
  {
   "cell_type": "code",
   "execution_count": 24,
   "metadata": {
    "collapsed": true
   },
   "outputs": [],
   "source": [
    "im5c.set_data(gauss_der > 7)\n",
    "im5c.set_clim(0, 1)\n",
    "fig5.canvas.draw()"
   ]
  },
  {
   "cell_type": "code",
   "execution_count": 25,
   "metadata": {
    "collapsed": false
   },
   "outputs": [
    {
     "data": {
      "text/plain": [
       "[None, None, None, None, None, None]"
      ]
     },
     "execution_count": 25,
     "metadata": {},
     "output_type": "execute_result"
    }
   ],
   "source": [
    "[plt.close(i) for i in range(6)]"
   ]
  },
  {
   "cell_type": "markdown",
   "metadata": {
    "collapsed": true
   },
   "source": [
    "---\n",
    "\n",
    "### Sharpening in grayscale\n",
    "\n",
    "1. Load an image and convert to grayscale\n",
    "2. Smooth with a circular Gaussian of width 2\n",
    "3. Subtract the result of 2. from 1.\n",
    "4. Add half the result of 3. to 1. and display\n",
    "5. Add twice the result of 3. to 1. and display"
   ]
  },
  {
   "cell_type": "code",
   "execution_count": 26,
   "metadata": {
    "collapsed": true
   },
   "outputs": [],
   "source": [
    "imgsm_L = gf(img_L, 2) # nb, gf argument must be of type float.\n",
    "\n",
    "img_hpf = img_L - imgsm_L\n",
    "\n",
    "fig6, ax6 = plt.subplots(num=6, figsize=[xsize, ysize])\n",
    "fig6.subplots_adjust(0, 0, 1, 1)\n",
    "ax6.axis(\"off\")\n",
    "im6 = ax6.imshow(img_L)\n",
    "fig6.canvas.draw()"
   ]
  },
  {
   "cell_type": "code",
   "execution_count": 27,
   "metadata": {
    "collapsed": false
   },
   "outputs": [
    {
     "data": {
      "text/plain": [
       "<matplotlib.image.AxesImage at 0x1145f3b50>"
      ]
     },
     "execution_count": 27,
     "metadata": {},
     "output_type": "execute_result"
    }
   ],
   "source": [
    "plt.figure()\n",
    "plt.imshow(img_hpf)"
   ]
  },
  {
   "cell_type": "code",
   "execution_count": 28,
   "metadata": {
    "collapsed": false
   },
   "outputs": [],
   "source": [
    "sflag = [True]\n",
    "imgs  = [img_L, img_L + img_hpf]\n",
    "\n",
    "def toggle(event):\n",
    "    \"\"\"\n",
    "    Toggle between original image and sharpened images.\n",
    "    \"\"\"\n",
    "    \n",
    "    # -- if the \"n\" key is pressed\n",
    "    if event.key == \" \":\n",
    "\n",
    "        # flip the display flag\n",
    "        sflag[0] = ~sflag[0]\n",
    "        \n",
    "        # reset the data\n",
    "        im6.set_data(imgs[sflag[0]])\n",
    "        fig6.canvas.draw()\n",
    "        \n",
    "dum = fig6.canvas.mpl_connect(\"key_press_event\", toggle)"
   ]
  },
  {
   "cell_type": "markdown",
   "metadata": {
    "collapsed": true
   },
   "source": [
    "We can do this in color as well:"
   ]
  },
  {
   "cell_type": "code",
   "execution_count": 29,
   "metadata": {
    "collapsed": false
   },
   "outputs": [],
   "source": [
    "imgc     = nd.imread('images/city_image.jpg')\n",
    "imgc_hpf = 1.0 * imgc - gf(1.0 * imgc, (2, 2, 0))\n",
    "\n",
    "# reset imgs for toggle function\n",
    "imgs = [imgc, (imgc + imgc_hpf).clip(0,255).astype(np.uint8)]"
   ]
  },
  {
   "cell_type": "code",
   "execution_count": 27,
   "metadata": {
    "collapsed": true
   },
   "outputs": [],
   "source": [
    "plt.close(\"all\")"
   ]
  },
  {
   "cell_type": "markdown",
   "metadata": {
    "collapsed": true
   },
   "source": [
    "<i>Aside on <b>median filtering</b></i>:\n",
    "\n",
    "Median filtering replaces a given data point with the median of the measurements within some window.  This process preserves edges (unlike gaussian filtering)."
   ]
  },
  {
   "cell_type": "code",
   "execution_count": 30,
   "metadata": {
    "collapsed": false
   },
   "outputs": [],
   "source": [
    "xx = np.linspace(-100., 100., 200)\n",
    "yy = 1.0 * (xx > 20.)\n",
    "\n",
    "np.random.seed(103)\n",
    "noise = np.random.randn(xx.size) * 0.1\n",
    "\n",
    "mf = nd.filters.median_filter\n",
    "\n",
    "fig7, ax7 = plt.subplots(num=7)\n",
    "lin7a, = ax7.plot(xx, yy + noise, lw=0.5)\n",
    "lin7b, = ax7.plot(xx, gf(yy + noise, 10))\n",
    "lin7c, = ax7.plot(xx, mf(yy + noise, 10))\n",
    "fig7.canvas.draw()"
   ]
  },
  {
   "cell_type": "markdown",
   "metadata": {},
   "source": [
    "Or in 2D:"
   ]
  },
  {
   "cell_type": "code",
   "execution_count": 31,
   "metadata": {
    "collapsed": false
   },
   "outputs": [],
   "source": [
    "fig8, ax8 = plt.subplots(3, 1, num=8, figsize=[xsize, 3*ysize])\n",
    "fig8.subplots_adjust(0, 0, 1, 1, 0, 0)\n",
    "[i.axis(\"off\") for i in ax8]\n",
    "\n",
    "ax8[0].imshow(imgc)\n",
    "ax8[1].imshow(gf(1.0 * imgc, [5, 5, 0]).clip(0, 255).astype(np.uint8))\n",
    "ax8[2].imshow(mf(1.0 * imgc, [5, 5, 1]).clip(0, 255).astype(np.uint8))\n",
    "fig8.canvas.draw()"
   ]
  },
  {
   "cell_type": "code",
   "execution_count": 30,
   "metadata": {
    "collapsed": true
   },
   "outputs": [],
   "source": [
    "plt.close(\"all\")"
   ]
  },
  {
   "cell_type": "code",
   "execution_count": null,
   "metadata": {
    "collapsed": true
   },
   "outputs": [],
   "source": []
  }
 ],
 "metadata": {
  "anaconda-cloud": {},
  "kernelspec": {
   "display_name": "Python [Root]",
   "language": "python",
   "name": "Python [Root]"
  },
  "language_info": {
   "codemirror_mode": {
    "name": "ipython",
    "version": 2
   },
   "file_extension": ".py",
   "mimetype": "text/x-python",
   "name": "python",
   "nbconvert_exporter": "python",
   "pygments_lexer": "ipython2",
   "version": "2.7.13"
  }
 },
 "nbformat": 4,
 "nbformat_minor": 0
}
