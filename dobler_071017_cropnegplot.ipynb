{
 "cells": [
  {
   "cell_type": "markdown",
   "metadata": {},
   "source": [
    "(always be aware of your imports and <b><u><i>preserve namespaces</i></u></b>!!!)"
   ]
  },
  {
   "cell_type": "code",
   "execution_count": 1,
   "metadata": {
    "collapsed": true
   },
   "outputs": [],
   "source": [
    "import os\n",
    "import sys\n",
    "import time\n",
    "import numpy as np\n",
    "import scipy.ndimage as nd\n",
    "import matplotlib.pyplot as plt\n",
    "\n",
    "plt.ion() # set interactive mpl\n",
    "plt.rcParams[\"image.cmap\"] = \"gist_gray\""
   ]
  },
  {
   "cell_type": "markdown",
   "metadata": {},
   "source": [
    "### Cropping, negative, and overplotting"
   ]
  },
  {
   "cell_type": "markdown",
   "metadata": {},
   "source": [
    "1. Find a jpg from the internet and download it\n",
    "2. Load it into python using scipy.ndimage\n",
    "3. Display the full image\n",
    "4. Display only the upper left corner\n",
    "5. Display only the lower right corner\n",
    "6. Display only the central half of the image\n",
    "7. Diplay a negative of the full image\n",
    "8. Reset the right half of the image as the negative of itself\n",
    "9. Plot a step function with a transition at ncol/2 and height nrow\n",
    "10. Overshow the result of step 8"
   ]
  },
  {
   "cell_type": "code",
   "execution_count": 2,
   "metadata": {
    "collapsed": true
   },
   "outputs": [],
   "source": [
    "# -- 2. Load it into python using scipy.ndimage\n",
    "img = nd.imread('images/city_image.jpg')"
   ]
  },
  {
   "cell_type": "code",
   "execution_count": 3,
   "metadata": {
    "collapsed": true
   },
   "outputs": [],
   "source": [
    "# -- 3. Display the full image\n",
    "nrow, ncol = img.shape[:2]\n",
    "xsize = 10.\n",
    "ysize = xsize * float(nrow) / float(ncol)\n",
    "\n",
    "fig0, ax0 = plt.subplots(num=0, figsize=[xsize, ysize])\n",
    "fig0.subplots_adjust(0, 0, 1, 1)\n",
    "ax0.axis(\"off\")\n",
    "im0 = ax0.imshow(img)\n",
    "fig0.canvas.draw()"
   ]
  },
  {
   "cell_type": "code",
   "execution_count": 4,
   "metadata": {
    "collapsed": true
   },
   "outputs": [],
   "source": [
    "# -- 4. Display only the upper left corner\n",
    "fig1, ax1 = plt.subplots(num=1, figsize=[xsize, ysize])\n",
    "fig1.subplots_adjust(0, 0, 1, 1)\n",
    "ax1.axis(\"off\")\n",
    "im1 = ax1.imshow(img[:nrow//2, :ncol//2])\n",
    "fig1.canvas.draw()"
   ]
  },
  {
   "cell_type": "code",
   "execution_count": 5,
   "metadata": {
    "collapsed": true
   },
   "outputs": [],
   "source": [
    "# -- 5. Display only the lower right corner\n",
    "fig2, ax2 = plt.subplots(num=2, figsize=[xsize, ysize])\n",
    "fig2.subplots_adjust(0, 0, 1, 1)\n",
    "ax2.axis(\"off\")\n",
    "im2 = ax2.imshow(img[nrow//2:, ncol//2:])\n",
    "fig2.canvas.draw()"
   ]
  },
  {
   "cell_type": "code",
   "execution_count": 6,
   "metadata": {
    "collapsed": true
   },
   "outputs": [],
   "source": [
    "# -- 6. Display only the central half\n",
    "fig3, ax3 = plt.subplots(num=3, figsize=[xsize, ysize])\n",
    "fig3.subplots_adjust(0, 0, 1, 1)\n",
    "ax3.axis(\"off\")\n",
    "im3 = ax3.imshow(img[nrow//4:3*nrow//4, ncol//4:3*ncol//4])\n",
    "fig3.canvas.draw()"
   ]
  },
  {
   "cell_type": "code",
   "execution_count": 7,
   "metadata": {
    "collapsed": true
   },
   "outputs": [],
   "source": [
    "# -- 7. Display the negative of the full image\n",
    "fig4, ax4 = plt.subplots(num=4, figsize=[xsize, ysize])\n",
    "fig4.subplots_adjust(0, 0, 1, 1)\n",
    "ax4.axis(\"off\")\n",
    "im4 = ax4.imshow(255 - img)\n",
    "fig4.canvas.draw()"
   ]
  },
  {
   "cell_type": "code",
   "execution_count": 10,
   "metadata": {
    "collapsed": true
   },
   "outputs": [],
   "source": [
    "# -- 8. Reset the right half of the image as the negative of itself\n",
    "img[:, ncol//2:] = 255 - img[:,ncol/2:]\n",
    "\n",
    "fig5, ax5 = plt.subplots(num=5, figsize=[xsize, ysize])\n",
    "fig5.subplots_adjust(0, 0, 1, 1)\n",
    "ax5.axis(\"off\")\n",
    "im5 = ax5.imshow(img)\n",
    "fig5.canvas.draw()"
   ]
  },
  {
   "cell_type": "code",
   "execution_count": 11,
   "metadata": {
    "collapsed": true
   },
   "outputs": [],
   "source": [
    "# -- 9. Plot a step function with a transition at ncol/2 and height nrow\n",
    "xx = np.arange(ncol)\n",
    "yy = nrow * (xx > ncol//2)\n",
    "\n",
    "fig6, ax6 = plt.subplots(num=6, figsize=[xsize, ysize])\n",
    "ax6.plot(xx, yy, color=\"red\", lw=4)\n",
    "fig6.canvas.draw()"
   ]
  },
  {
   "cell_type": "code",
   "execution_count": 12,
   "metadata": {
    "collapsed": true
   },
   "outputs": [],
   "source": [
    "# -- 10. Overshow the result of step 8\n",
    "im6 = ax6.imshow(img)\n",
    "fig6.canvas.draw()"
   ]
  },
  {
   "cell_type": "code",
   "execution_count": 13,
   "metadata": {
    "collapsed": true
   },
   "outputs": [],
   "source": [
    "plt.close(\"all\")"
   ]
  },
  {
   "cell_type": "code",
   "execution_count": 14,
   "metadata": {
    "collapsed": false
   },
   "outputs": [
    {
     "data": {
      "text/plain": [
       "u'TkAgg'"
      ]
     },
     "execution_count": 14,
     "metadata": {},
     "output_type": "execute_result"
    }
   ],
   "source": [
    "plt.rcParams[\"backend\"]"
   ]
  },
  {
   "cell_type": "code",
   "execution_count": null,
   "metadata": {
    "collapsed": true
   },
   "outputs": [],
   "source": []
  }
 ],
 "metadata": {
  "kernelspec": {
   "display_name": "Python [Root]",
   "language": "python",
   "name": "Python [Root]"
  },
  "language_info": {
   "codemirror_mode": {
    "name": "ipython",
    "version": 2
   },
   "file_extension": ".py",
   "mimetype": "text/x-python",
   "name": "python",
   "nbconvert_exporter": "python",
   "pygments_lexer": "ipython2",
   "version": "2.7.13"
  }
 },
 "nbformat": 4,
 "nbformat_minor": 0
}
